{
 "cells": [
  {
   "cell_type": "markdown",
   "metadata": {
    "id": "b3RvafELwaml"
   },
   "source": [
    "#**GDG TASK 2**\n",
    "\n",
    "![GDG On Campus - Centered - 10x10 White.png](data:image/png;base64,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)\n",
    "\n",
    "Last week, we dealt with the visualization and analytical aspect of ML. This week, lets directly get our hands dirty with various ML models.\n",
    "\n",
    "Possibly the first question one must ask is, what is Machine Learning essentially made up of? In a broad sense, ML problems can be split into Supervised and Unsupervised learning. In supervised learning are the categories of Classification and Regression, which is what we'll explore today.\n",
    "\n",
    "Like last time, resources and comments are provided above each cell, so peruse the resources and then get coding."
   ]
  },
  {
   "cell_type": "markdown",
   "metadata": {
    "id": "Yrvq9KjAySAk"
   },
   "source": [
    "Supervised vs Unsupervised vs Reinforcement Learning:\n",
    "\n",
    "https://www.simplilearn.com/tutorials/machine-learning-tutorial/types-of-machine-learning\n",
    "\n",
    "Regression vs Classification :\n",
    "\n",
    "https://www.analyticsvidhya.com/blog/2023/05/regression-vs-classification/ (Might be a little wordy)\n",
    "\n",
    "https://www.youtube.com/watch?v=1NBwM5tavTk&ab_channel=IntuitiveML\n",
    "(A very quick video)\n",
    "\n",
    "Machine Learning for Everyone (Read till 1.1):\n",
    "\n",
    "https://vas3k.com/blog/machine_learning/"
   ]
  },
  {
   "cell_type": "markdown",
   "metadata": {
    "id": "J9QC3OkXoXCk"
   },
   "source": [
    "OPTIONAL BUT USEFUL <br>\n",
    "Overfitting and Underfitting [VERY IMPORTANT]\n",
    "https://www.youtube.com/watch?v=T9NtOa-IITo"
   ]
  },
  {
   "cell_type": "markdown",
   "metadata": {
    "id": "nC13EueBBcne"
   },
   "source": [
    "Lets import all the basic libraries."
   ]
  },
  {
   "cell_type": "code",
   "execution_count": 3,
   "metadata": {
    "colab": {
     "base_uri": "https://localhost:8080/"
    },
    "id": "q9GqsCngsgkc",
    "outputId": "1bfde986-2025-4add-f313-ab095f1c5701"
   },
   "outputs": [],
   "source": [
    "!pip install shap -q "
   ]
  },
  {
   "cell_type": "code",
   "execution_count": 4,
   "metadata": {
    "id": "1TIf84uBBhLQ"
   },
   "outputs": [],
   "source": [
    "import pandas as pd\n",
    "import numpy as np\n",
    "import matplotlib.pyplot as plt\n",
    "import seaborn as sns"
   ]
  },
  {
   "cell_type": "markdown",
   "metadata": {
    "id": "ekg-HMInCWG-"
   },
   "source": [
    "##Regression"
   ]
  },
  {
   "cell_type": "markdown",
   "metadata": {
    "id": "m2c_AOWMCc31"
   },
   "source": [
    "For regression, lets reuse the crab dataset that you worked on last week. Import the dataset from wherever you had saved it in the cell below.\n",
    "Also print the first 5 rows to ensure you have loaded the dataset correctly."
   ]
  },
  {
   "cell_type": "code",
   "execution_count": 5,
   "metadata": {
    "id": "-A4SpDP8CZnF"
   },
   "outputs": [
    {
     "data": {
      "text/html": [
       "<div>\n",
       "<style scoped>\n",
       "    .dataframe tbody tr th:only-of-type {\n",
       "        vertical-align: middle;\n",
       "    }\n",
       "\n",
       "    .dataframe tbody tr th {\n",
       "        vertical-align: top;\n",
       "    }\n",
       "\n",
       "    .dataframe thead th {\n",
       "        text-align: right;\n",
       "    }\n",
       "</style>\n",
       "<table border=\"1\" class=\"dataframe\">\n",
       "  <thead>\n",
       "    <tr style=\"text-align: right;\">\n",
       "      <th></th>\n",
       "      <th>id</th>\n",
       "      <th>Sex</th>\n",
       "      <th>Length</th>\n",
       "      <th>Diameter</th>\n",
       "      <th>Height</th>\n",
       "      <th>Weight</th>\n",
       "      <th>Shucked Weight</th>\n",
       "      <th>Viscera Weight</th>\n",
       "      <th>Shell Weight</th>\n",
       "      <th>Age</th>\n",
       "    </tr>\n",
       "  </thead>\n",
       "  <tbody>\n",
       "    <tr>\n",
       "      <th>0</th>\n",
       "      <td>0</td>\n",
       "      <td>I</td>\n",
       "      <td>1.5250</td>\n",
       "      <td>1.1750</td>\n",
       "      <td>0.3750</td>\n",
       "      <td>28.973189</td>\n",
       "      <td>12.728926</td>\n",
       "      <td>6.647958</td>\n",
       "      <td>8.348928</td>\n",
       "      <td>9</td>\n",
       "    </tr>\n",
       "    <tr>\n",
       "      <th>1</th>\n",
       "      <td>1</td>\n",
       "      <td>I</td>\n",
       "      <td>1.1000</td>\n",
       "      <td>0.8250</td>\n",
       "      <td>0.2750</td>\n",
       "      <td>10.418441</td>\n",
       "      <td>4.521745</td>\n",
       "      <td>2.324659</td>\n",
       "      <td>3.401940</td>\n",
       "      <td>8</td>\n",
       "    </tr>\n",
       "    <tr>\n",
       "      <th>2</th>\n",
       "      <td>2</td>\n",
       "      <td>M</td>\n",
       "      <td>1.3875</td>\n",
       "      <td>1.1125</td>\n",
       "      <td>0.3750</td>\n",
       "      <td>24.777463</td>\n",
       "      <td>11.339800</td>\n",
       "      <td>5.556502</td>\n",
       "      <td>6.662133</td>\n",
       "      <td>9</td>\n",
       "    </tr>\n",
       "    <tr>\n",
       "      <th>3</th>\n",
       "      <td>3</td>\n",
       "      <td>F</td>\n",
       "      <td>1.7000</td>\n",
       "      <td>1.4125</td>\n",
       "      <td>0.5000</td>\n",
       "      <td>50.660556</td>\n",
       "      <td>20.354941</td>\n",
       "      <td>10.991839</td>\n",
       "      <td>14.996885</td>\n",
       "      <td>11</td>\n",
       "    </tr>\n",
       "    <tr>\n",
       "      <th>4</th>\n",
       "      <td>4</td>\n",
       "      <td>I</td>\n",
       "      <td>1.2500</td>\n",
       "      <td>1.0125</td>\n",
       "      <td>0.3375</td>\n",
       "      <td>23.289114</td>\n",
       "      <td>11.977664</td>\n",
       "      <td>4.507570</td>\n",
       "      <td>5.953395</td>\n",
       "      <td>8</td>\n",
       "    </tr>\n",
       "  </tbody>\n",
       "</table>\n",
       "</div>"
      ],
      "text/plain": [
       "   id Sex  Length  Diameter  Height     Weight  Shucked Weight  \\\n",
       "0   0   I  1.5250    1.1750  0.3750  28.973189       12.728926   \n",
       "1   1   I  1.1000    0.8250  0.2750  10.418441        4.521745   \n",
       "2   2   M  1.3875    1.1125  0.3750  24.777463       11.339800   \n",
       "3   3   F  1.7000    1.4125  0.5000  50.660556       20.354941   \n",
       "4   4   I  1.2500    1.0125  0.3375  23.289114       11.977664   \n",
       "\n",
       "   Viscera Weight  Shell Weight  Age  \n",
       "0        6.647958      8.348928    9  \n",
       "1        2.324659      3.401940    8  \n",
       "2        5.556502      6.662133    9  \n",
       "3       10.991839     14.996885   11  \n",
       "4        4.507570      5.953395    8  "
      ]
     },
     "execution_count": 5,
     "metadata": {},
     "output_type": "execute_result"
    }
   ],
   "source": [
    "df_crab = pd.read_csv('Task2.csv')\n",
    "df_crab.head()"
   ]
  },
  {
   "cell_type": "code",
   "execution_count": 6,
   "metadata": {
    "colab": {
     "base_uri": "https://localhost:8080/"
    },
    "id": "NnvFF41YHkkL",
    "outputId": "620c5e32-3802-4a5c-bbcf-fc1dae6293c5"
   },
   "outputs": [
    {
     "data": {
      "text/plain": [
       "(74051, 10)"
      ]
     },
     "execution_count": 6,
     "metadata": {},
     "output_type": "execute_result"
    }
   ],
   "source": [
    "df_crab.shape"
   ]
  },
  {
   "cell_type": "markdown",
   "metadata": {
    "id": "3x7bCUAuEgkI"
   },
   "source": [
    "Now, let's some employ some Feature Engineering tactics which you would have performed in the previous tasks.\n",
    "\n",
    "Create a function called crab_processing which takes a dataframe as an input, performs the following tasks, and returns a cleaned and edited df:\n",
    "\n",
    "1) Drop the 'id' column.\n",
    "\n",
    "2) Drop all rows where 'Height' of the crab is 0.\n",
    "\n",
    "3) Create a new column called 'LostWeight' which is calculated using the following formula - ```\n",
    "Weight - (Shucked + Viscera + Shell)``` .\n",
    "If this formula gives a number less than 0, then assign 0 to the LostWeight column, else assign 1.\n",
    "\n",
    "4) Finally, use one hot encoding to encode the column 'Sex'\n",
    "\n",
    "Take help from your previous task where you have implemented these steps in different cells.\n"
   ]
  },
  {
   "cell_type": "code",
   "execution_count": 7,
   "metadata": {
    "id": "1r2CKOVYGqyT"
   },
   "outputs": [
    {
     "data": {
      "text/html": [
       "<div>\n",
       "<style scoped>\n",
       "    .dataframe tbody tr th:only-of-type {\n",
       "        vertical-align: middle;\n",
       "    }\n",
       "\n",
       "    .dataframe tbody tr th {\n",
       "        vertical-align: top;\n",
       "    }\n",
       "\n",
       "    .dataframe thead th {\n",
       "        text-align: right;\n",
       "    }\n",
       "</style>\n",
       "<table border=\"1\" class=\"dataframe\">\n",
       "  <thead>\n",
       "    <tr style=\"text-align: right;\">\n",
       "      <th></th>\n",
       "      <th>Length</th>\n",
       "      <th>Diameter</th>\n",
       "      <th>Height</th>\n",
       "      <th>Weight</th>\n",
       "      <th>Shucked Weight</th>\n",
       "      <th>Viscera Weight</th>\n",
       "      <th>Shell Weight</th>\n",
       "      <th>Age</th>\n",
       "      <th>Lost Weight</th>\n",
       "      <th>Sex_F</th>\n",
       "      <th>Sex_I</th>\n",
       "      <th>Sex_M</th>\n",
       "    </tr>\n",
       "  </thead>\n",
       "  <tbody>\n",
       "    <tr>\n",
       "      <th>0</th>\n",
       "      <td>1.5250</td>\n",
       "      <td>1.1750</td>\n",
       "      <td>0.3750</td>\n",
       "      <td>28.973189</td>\n",
       "      <td>12.728926</td>\n",
       "      <td>6.647958</td>\n",
       "      <td>8.348928</td>\n",
       "      <td>9.0</td>\n",
       "      <td>1.0</td>\n",
       "      <td>0.0</td>\n",
       "      <td>1.0</td>\n",
       "      <td>0.0</td>\n",
       "    </tr>\n",
       "    <tr>\n",
       "      <th>1</th>\n",
       "      <td>1.1000</td>\n",
       "      <td>0.8250</td>\n",
       "      <td>0.2750</td>\n",
       "      <td>10.418441</td>\n",
       "      <td>4.521745</td>\n",
       "      <td>2.324659</td>\n",
       "      <td>3.401940</td>\n",
       "      <td>8.0</td>\n",
       "      <td>1.0</td>\n",
       "      <td>0.0</td>\n",
       "      <td>1.0</td>\n",
       "      <td>0.0</td>\n",
       "    </tr>\n",
       "    <tr>\n",
       "      <th>2</th>\n",
       "      <td>1.3875</td>\n",
       "      <td>1.1125</td>\n",
       "      <td>0.3750</td>\n",
       "      <td>24.777463</td>\n",
       "      <td>11.339800</td>\n",
       "      <td>5.556502</td>\n",
       "      <td>6.662133</td>\n",
       "      <td>9.0</td>\n",
       "      <td>1.0</td>\n",
       "      <td>0.0</td>\n",
       "      <td>0.0</td>\n",
       "      <td>1.0</td>\n",
       "    </tr>\n",
       "    <tr>\n",
       "      <th>3</th>\n",
       "      <td>1.7000</td>\n",
       "      <td>1.4125</td>\n",
       "      <td>0.5000</td>\n",
       "      <td>50.660556</td>\n",
       "      <td>20.354941</td>\n",
       "      <td>10.991839</td>\n",
       "      <td>14.996885</td>\n",
       "      <td>11.0</td>\n",
       "      <td>1.0</td>\n",
       "      <td>1.0</td>\n",
       "      <td>0.0</td>\n",
       "      <td>0.0</td>\n",
       "    </tr>\n",
       "    <tr>\n",
       "      <th>4</th>\n",
       "      <td>1.2500</td>\n",
       "      <td>1.0125</td>\n",
       "      <td>0.3375</td>\n",
       "      <td>23.289114</td>\n",
       "      <td>11.977664</td>\n",
       "      <td>4.507570</td>\n",
       "      <td>5.953395</td>\n",
       "      <td>8.0</td>\n",
       "      <td>1.0</td>\n",
       "      <td>0.0</td>\n",
       "      <td>1.0</td>\n",
       "      <td>0.0</td>\n",
       "    </tr>\n",
       "  </tbody>\n",
       "</table>\n",
       "</div>"
      ],
      "text/plain": [
       "   Length  Diameter  Height     Weight  Shucked Weight  Viscera Weight  \\\n",
       "0  1.5250    1.1750  0.3750  28.973189       12.728926        6.647958   \n",
       "1  1.1000    0.8250  0.2750  10.418441        4.521745        2.324659   \n",
       "2  1.3875    1.1125  0.3750  24.777463       11.339800        5.556502   \n",
       "3  1.7000    1.4125  0.5000  50.660556       20.354941       10.991839   \n",
       "4  1.2500    1.0125  0.3375  23.289114       11.977664        4.507570   \n",
       "\n",
       "   Shell Weight   Age  Lost Weight  Sex_F  Sex_I  Sex_M  \n",
       "0      8.348928   9.0          1.0    0.0    1.0    0.0  \n",
       "1      3.401940   8.0          1.0    0.0    1.0    0.0  \n",
       "2      6.662133   9.0          1.0    0.0    0.0    1.0  \n",
       "3     14.996885  11.0          1.0    1.0    0.0    0.0  \n",
       "4      5.953395   8.0          1.0    0.0    1.0    0.0  "
      ]
     },
     "execution_count": 7,
     "metadata": {},
     "output_type": "execute_result"
    }
   ],
   "source": [
    "from sklearn.preprocessing import OneHotEncoder\n",
    "\n",
    "\n",
    "# Your code starts here\n",
    "def crab_processing(df):\n",
    "  #logic for feature engineering\n",
    "  \n",
    "  # drop 'id' column\n",
    "  df = df.drop('id', axis=1) \n",
    "  \n",
    "  # Drop rows where 'Height' is 0\n",
    "  df = df[df['Height'] != 0] \n",
    "  \n",
    "  # Add new column 'Lost Weight'\n",
    "  df['Lost Weight'] = df['Weight'] - (df['Shucked Weight'] + df['Viscera Weight'] + df['Shell Weight'])\n",
    "  df['Lost Weight'] = df['Lost Weight'].apply(lambda x: 0 if x <= 0 else 1)\n",
    "  \n",
    "  # One Hot Encoding 'Sex' column\n",
    "  encoder = OneHotEncoder(sparse_output=False)\n",
    "  encoded_sex = encoder.fit_transform(df[['Sex']])\n",
    "  encoded_df = pd.DataFrame(encoded_sex, columns=encoder.get_feature_names_out(['Sex']))\n",
    "  df = pd.concat([df, encoded_df], axis=1)\n",
    "  df = df.drop('Sex', axis=1)\n",
    "  \n",
    "  return df\n",
    "\n",
    "df_crab = crab_processing(df_crab)\n",
    "df_crab.head()\n",
    "# Your code ends here"
   ]
  },
  {
   "cell_type": "markdown",
   "metadata": {
    "id": "S7PFPnCEILGm"
   },
   "source": [
    "If all is correct, this should be the shape of your df now."
   ]
  },
  {
   "cell_type": "code",
   "execution_count": 8,
   "metadata": {
    "colab": {
     "base_uri": "https://localhost:8080/"
    },
    "id": "PK-t3m18IG_0",
    "outputId": "fe308bee-9220-4aa8-d432-60758b580cbd"
   },
   "outputs": [
    {
     "data": {
      "text/plain": [
       "(74051, 12)"
      ]
     },
     "execution_count": 8,
     "metadata": {},
     "output_type": "execute_result"
    }
   ],
   "source": [
    "df_crab.shape"
   ]
  },
  {
   "cell_type": "code",
   "execution_count": 9,
   "metadata": {},
   "outputs": [
    {
     "data": {
      "text/plain": [
       "Length            24\n",
       "Diameter          24\n",
       "Height            24\n",
       "Weight            24\n",
       "Shucked Weight    24\n",
       "Viscera Weight    24\n",
       "Shell Weight      24\n",
       "Age               24\n",
       "Lost Weight       24\n",
       "Sex_F             24\n",
       "Sex_I             24\n",
       "Sex_M             24\n",
       "dtype: int64"
      ]
     },
     "execution_count": 9,
     "metadata": {},
     "output_type": "execute_result"
    }
   ],
   "source": [
    "df_crab.isnull().sum()"
   ]
  },
  {
   "cell_type": "code",
   "execution_count": 10,
   "metadata": {},
   "outputs": [
    {
     "data": {
      "text/plain": [
       "(74003, 12)"
      ]
     },
     "execution_count": 10,
     "metadata": {},
     "output_type": "execute_result"
    }
   ],
   "source": [
    "df_crab = df_crab.dropna(subset=['Height', 'Sex_F','Sex_M','Sex_I'])\n",
    "df_crab.shape"
   ]
  },
  {
   "cell_type": "markdown",
   "metadata": {
    "id": "FsKwo6pHIh_L"
   },
   "source": [
    "###Basic Visualization\n",
    "\n",
    "In this problem, our aim is to predict the age of the crab, hence 'Age' here is called our target variable. To check its distribution, plot a histogram of the 'Age' column.\n",
    "\n",
    "Choose the number of bins by experimenting. The output is expected to mimic a bell curve.\n",
    "\n",
    "What is a histogram? - https://www.w3schools.com/python/matplotlib_histograms.asp\n",
    "\n",
    "Difference between histogram and a bar graph - https://keydifferences.com/difference-between-histogram-and-bar-graph.html"
   ]
  },
  {
   "cell_type": "code",
   "execution_count": 11,
   "metadata": {
    "id": "ziGnQvT0Ig_i"
   },
   "outputs": [
    {
     "data": {
      "image/png": "[encoded data removed]",
      "text/plain": [
       "<Figure size 640x480 with 1 Axes>"
      ]
     },
     "metadata": {},
     "output_type": "display_data"
    }
   ],
   "source": [
    "# Your code starts here\n",
    "\n",
    "sns.histplot(df_crab['Age'], bins=27, kde=True)  # KDE adds a smooth curve for distribution\n",
    "plt.title('Age Distribution')\n",
    "plt.xlabel('Age')\n",
    "plt.ylabel('Frequency')\n",
    "plt.show()\n",
    "\n",
    "# Your code ends here"
   ]
  },
  {
   "cell_type": "markdown",
   "metadata": {
    "id": "J7Iq00srJ83u"
   },
   "source": [
    "###Feature and Variable Sets\n",
    "\n",
    "As mentioned above, the 'Age' column is what we're gonna be predicting. So essentially we need to create two additional dataframes, one which contains all the training features (All columns except 'Age') and one which only contains the column 'Age'. Name them X and y respectively."
   ]
  },
  {
   "cell_type": "code",
   "execution_count": 12,
   "metadata": {
    "id": "aLzZb4T3JYtz"
   },
   "outputs": [
    {
     "name": "stdout",
     "output_type": "stream",
     "text": [
      "(74003, 11) (74003,)\n"
     ]
    }
   ],
   "source": [
    "# Your code starts here\n",
    "X = df_crab.drop(columns=['Age'])\n",
    "y = df_crab['Age']\n",
    "\n",
    "print(X.shape, y.shape)\n",
    "# Your code ends here"
   ]
  },
  {
   "cell_type": "code",
   "execution_count": 13,
   "metadata": {},
   "outputs": [
    {
     "data": {
      "text/plain": [
       "0"
      ]
     },
     "execution_count": 13,
     "metadata": {},
     "output_type": "execute_result"
    }
   ],
   "source": [
    "y.isnull().sum()"
   ]
  },
  {
   "cell_type": "code",
   "execution_count": 14,
   "metadata": {
    "id": "NxzP7ADCLDfj"
   },
   "outputs": [
    {
     "name": "stdout",
     "output_type": "stream",
     "text": [
      "(74003, 11) (74003,)\n"
     ]
    }
   ],
   "source": [
    "# This code should print (74027, 11) and (74027, 1) if everything is correct\n",
    "print(X.shape,y.shape)"
   ]
  },
  {
   "cell_type": "code",
   "execution_count": 15,
   "metadata": {
    "id": "Zyx_dD5OLQAl"
   },
   "outputs": [
    {
     "data": {
      "text/html": [
       "<div>\n",
       "<style scoped>\n",
       "    .dataframe tbody tr th:only-of-type {\n",
       "        vertical-align: middle;\n",
       "    }\n",
       "\n",
       "    .dataframe tbody tr th {\n",
       "        vertical-align: top;\n",
       "    }\n",
       "\n",
       "    .dataframe thead th {\n",
       "        text-align: right;\n",
       "    }\n",
       "</style>\n",
       "<table border=\"1\" class=\"dataframe\">\n",
       "  <thead>\n",
       "    <tr style=\"text-align: right;\">\n",
       "      <th></th>\n",
       "      <th>Length</th>\n",
       "      <th>Diameter</th>\n",
       "      <th>Height</th>\n",
       "      <th>Weight</th>\n",
       "      <th>Shucked Weight</th>\n",
       "      <th>Viscera Weight</th>\n",
       "      <th>Shell Weight</th>\n",
       "      <th>Lost Weight</th>\n",
       "      <th>Sex_F</th>\n",
       "      <th>Sex_I</th>\n",
       "      <th>Sex_M</th>\n",
       "    </tr>\n",
       "  </thead>\n",
       "  <tbody>\n",
       "    <tr>\n",
       "      <th>0</th>\n",
       "      <td>1.5250</td>\n",
       "      <td>1.1750</td>\n",
       "      <td>0.3750</td>\n",
       "      <td>28.973189</td>\n",
       "      <td>12.728926</td>\n",
       "      <td>6.647958</td>\n",
       "      <td>8.348928</td>\n",
       "      <td>1.0</td>\n",
       "      <td>0.0</td>\n",
       "      <td>1.0</td>\n",
       "      <td>0.0</td>\n",
       "    </tr>\n",
       "    <tr>\n",
       "      <th>1</th>\n",
       "      <td>1.1000</td>\n",
       "      <td>0.8250</td>\n",
       "      <td>0.2750</td>\n",
       "      <td>10.418441</td>\n",
       "      <td>4.521745</td>\n",
       "      <td>2.324659</td>\n",
       "      <td>3.401940</td>\n",
       "      <td>1.0</td>\n",
       "      <td>0.0</td>\n",
       "      <td>1.0</td>\n",
       "      <td>0.0</td>\n",
       "    </tr>\n",
       "    <tr>\n",
       "      <th>2</th>\n",
       "      <td>1.3875</td>\n",
       "      <td>1.1125</td>\n",
       "      <td>0.3750</td>\n",
       "      <td>24.777463</td>\n",
       "      <td>11.339800</td>\n",
       "      <td>5.556502</td>\n",
       "      <td>6.662133</td>\n",
       "      <td>1.0</td>\n",
       "      <td>0.0</td>\n",
       "      <td>0.0</td>\n",
       "      <td>1.0</td>\n",
       "    </tr>\n",
       "    <tr>\n",
       "      <th>3</th>\n",
       "      <td>1.7000</td>\n",
       "      <td>1.4125</td>\n",
       "      <td>0.5000</td>\n",
       "      <td>50.660556</td>\n",
       "      <td>20.354941</td>\n",
       "      <td>10.991839</td>\n",
       "      <td>14.996885</td>\n",
       "      <td>1.0</td>\n",
       "      <td>1.0</td>\n",
       "      <td>0.0</td>\n",
       "      <td>0.0</td>\n",
       "    </tr>\n",
       "    <tr>\n",
       "      <th>4</th>\n",
       "      <td>1.2500</td>\n",
       "      <td>1.0125</td>\n",
       "      <td>0.3375</td>\n",
       "      <td>23.289114</td>\n",
       "      <td>11.977664</td>\n",
       "      <td>4.507570</td>\n",
       "      <td>5.953395</td>\n",
       "      <td>1.0</td>\n",
       "      <td>0.0</td>\n",
       "      <td>1.0</td>\n",
       "      <td>0.0</td>\n",
       "    </tr>\n",
       "  </tbody>\n",
       "</table>\n",
       "</div>"
      ],
      "text/plain": [
       "   Length  Diameter  Height     Weight  Shucked Weight  Viscera Weight  \\\n",
       "0  1.5250    1.1750  0.3750  28.973189       12.728926        6.647958   \n",
       "1  1.1000    0.8250  0.2750  10.418441        4.521745        2.324659   \n",
       "2  1.3875    1.1125  0.3750  24.777463       11.339800        5.556502   \n",
       "3  1.7000    1.4125  0.5000  50.660556       20.354941       10.991839   \n",
       "4  1.2500    1.0125  0.3375  23.289114       11.977664        4.507570   \n",
       "\n",
       "   Shell Weight  Lost Weight  Sex_F  Sex_I  Sex_M  \n",
       "0      8.348928          1.0    0.0    1.0    0.0  \n",
       "1      3.401940          1.0    0.0    1.0    0.0  \n",
       "2      6.662133          1.0    0.0    0.0    1.0  \n",
       "3     14.996885          1.0    1.0    0.0    0.0  \n",
       "4      5.953395          1.0    0.0    1.0    0.0  "
      ]
     },
     "execution_count": 15,
     "metadata": {},
     "output_type": "execute_result"
    }
   ],
   "source": [
    "#Print a few records of X\n",
    "X.head()"
   ]
  },
  {
   "cell_type": "code",
   "execution_count": 16,
   "metadata": {
    "id": "XsmETnt5LS4-"
   },
   "outputs": [
    {
     "data": {
      "text/plain": [
       "0     9.0\n",
       "1     8.0\n",
       "2     9.0\n",
       "3    11.0\n",
       "4     8.0\n",
       "Name: Age, dtype: float64"
      ]
     },
     "execution_count": 16,
     "metadata": {},
     "output_type": "execute_result"
    }
   ],
   "source": [
    "#Print a few records of y\n",
    "y.head()"
   ]
  },
  {
   "cell_type": "markdown",
   "metadata": {
    "id": "8jHney83LyN6"
   },
   "source": [
    "###Train-Test Split"
   ]
  },
  {
   "cell_type": "markdown",
   "metadata": {
    "id": "PM64x9YqORBp"
   },
   "source": [
    "Implementation - https://www.youtube.com/watch?v=BUkqYGPnLZ8&ab_channel=ManifoldAILearning\n",
    "\n",
    "Now, while we need data to train our regression model, it is equally important to keep some data aside for testing the effectiveness of the aforementioned model. Thus the dataset as a whole is generally further divided into the training dataset and the testing dataset.\n",
    "\n",
    "In order to implement this, import train_test_split function from scikit-learn."
   ]
  },
  {
   "cell_type": "code",
   "execution_count": 17,
   "metadata": {
    "id": "lfv3ydYEL1Kp"
   },
   "outputs": [],
   "source": [
    "# Import train_test_split Hint: Use sklearn.model_selection\n",
    "from sklearn.model_selection import train_test_split"
   ]
  },
  {
   "cell_type": "markdown",
   "metadata": {
    "id": "GugQgWWOOZeC"
   },
   "source": [
    "**Create X and y train and test splits in one command using a test size of 0.3 and a random seed**\n",
    "\n",
    "They should be called X_train, X_test, y_train, y_test"
   ]
  },
  {
   "cell_type": "code",
   "execution_count": 18,
   "metadata": {
    "id": "n8YNd8ZPOhKK"
   },
   "outputs": [],
   "source": [
    "# Your code starts here\n",
    "X_train, X_test, y_train, y_test = train_test_split(X, y, test_size=0.3, random_state=2)\n",
    "# Your code ends here"
   ]
  },
  {
   "cell_type": "markdown",
   "metadata": {
    "id": "7DAqa-ElOxny"
   },
   "source": [
    "Print the size and shape of each of the train/test splits (it should be in the ratio as per test_size parameter above, i.e in ratio of 0.3)"
   ]
  },
  {
   "cell_type": "code",
   "execution_count": 19,
   "metadata": {
    "id": "ro25Q7qRO2Z8"
   },
   "outputs": [
    {
     "name": "stdout",
     "output_type": "stream",
     "text": [
      "(51802, 11) (22201, 11) (51802,) (22201,)\n"
     ]
    }
   ],
   "source": [
    "# Your code starts here\n",
    "print(X_train.shape, X_test.shape, y_train.shape, y_test.shape)\n",
    "# Your code ends here"
   ]
  },
  {
   "cell_type": "markdown",
   "metadata": {
    "id": "W31IGX9YiwUY"
   },
   "source": [
    "Can you see that the data has been divided into 2 datasets of size 70% and 30% of the original dataset each? Use your calculator to confirm this :)"
   ]
  },
  {
   "cell_type": "markdown",
   "metadata": {
    "id": "EUdHMjnIO--R"
   },
   "source": [
    "###Model fit and training"
   ]
  },
  {
   "cell_type": "markdown",
   "metadata": {
    "id": "cuqAQZCrnHnc"
   },
   "source": [
    "Here is the complete lowdown on SVM (Support Vector Machine):<br>\n",
    "Theory : https://youtu.be/H9yACitf-KM <br>\n",
    "Theory: https://www.analyticsvidhya.com/blog/2021/06/support-vector-machine-better-understanding/ <br>\n",
    "Implementation : https://youtu.be/FB5EdxAGxQg"
   ]
  },
  {
   "cell_type": "markdown",
   "metadata": {
    "id": "Z141gk-oPIrp"
   },
   "source": [
    "Import SVR (Support Vector Regressor) and its metrics from scikit-learn."
   ]
  },
  {
   "cell_type": "code",
   "execution_count": 20,
   "metadata": {
    "id": "vvquREH0PfIy"
   },
   "outputs": [],
   "source": [
    "# Add your import statement here\n",
    "from sklearn.svm import SVR\n",
    "from sklearn.metrics import mean_squared_error, mean_absolute_error, r2_score\n",
    "\n",
    "svr = SVR()\n",
    "# Create an SVR object 'svr' by calling SVR()"
   ]
  },
  {
   "cell_type": "markdown",
   "metadata": {
    "id": "3W_Hr-5KQNQp"
   },
   "source": [
    "Fit the model on to the instantiated object itself using the X_train and y_train created earlier. No need to create another variable.\n",
    "\n",
    "Hint: svr.fit()\n",
    "\n",
    "This might take about a minute or so, just to inform you."
   ]
  },
  {
   "cell_type": "code",
   "execution_count": 21,
   "metadata": {},
   "outputs": [
    {
     "data": {
      "text/plain": [
       "Length            0\n",
       "Diameter          0\n",
       "Height            0\n",
       "Weight            0\n",
       "Shucked Weight    0\n",
       "Viscera Weight    0\n",
       "Shell Weight      0\n",
       "Lost Weight       0\n",
       "Sex_F             0\n",
       "Sex_I             0\n",
       "Sex_M             0\n",
       "dtype: int64"
      ]
     },
     "execution_count": 21,
     "metadata": {},
     "output_type": "execute_result"
    }
   ],
   "source": [
    "X_train.isnull().sum()"
   ]
  },
  {
   "cell_type": "code",
   "execution_count": 22,
   "metadata": {
    "id": "YrJcIHJiQKuY"
   },
   "outputs": [
    {
     "data": {
      "text/html": [
       "<style>#sk-container-id-1 {\n",
       "  /* Definition of color scheme common for light and dark mode */\n",
       "  --sklearn-color-text: black;\n",
       "  --sklearn-color-line: gray;\n",
       "  /* Definition of color scheme for unfitted estimators */\n",
       "  --sklearn-color-unfitted-level-0: #fff5e6;\n",
       "  --sklearn-color-unfitted-level-1: #f6e4d2;\n",
       "  --sklearn-color-unfitted-level-2: #ffe0b3;\n",
       "  --sklearn-color-unfitted-level-3: chocolate;\n",
       "  /* Definition of color scheme for fitted estimators */\n",
       "  --sklearn-color-fitted-level-0: #f0f8ff;\n",
       "  --sklearn-color-fitted-level-1: #d4ebff;\n",
       "  --sklearn-color-fitted-level-2: #b3dbfd;\n",
       "  --sklearn-color-fitted-level-3: cornflowerblue;\n",
       "\n",
       "  /* Specific color for light theme */\n",
       "  --sklearn-color-text-on-default-background: var(--sg-text-color, var(--theme-code-foreground, var(--jp-content-font-color1, black)));\n",
       "  --sklearn-color-background: var(--sg-background-color, var(--theme-background, var(--jp-layout-color0, white)));\n",
       "  --sklearn-color-border-box: var(--sg-text-color, var(--theme-code-foreground, var(--jp-content-font-color1, black)));\n",
       "  --sklearn-color-icon: #696969;\n",
       "\n",
       "  @media (prefers-color-scheme: dark) {\n",
       "    /* Redefinition of color scheme for dark theme */\n",
       "    --sklearn-color-text-on-default-background: var(--sg-text-color, var(--theme-code-foreground, var(--jp-content-font-color1, white)));\n",
       "    --sklearn-color-background: var(--sg-background-color, var(--theme-background, var(--jp-layout-color0, #111)));\n",
       "    --sklearn-color-border-box: var(--sg-text-color, var(--theme-code-foreground, var(--jp-content-font-color1, white)));\n",
       "    --sklearn-color-icon: #878787;\n",
       "  }\n",
       "}\n",
       "\n",
       "#sk-container-id-1 {\n",
       "  color: var(--sklearn-color-text);\n",
       "}\n",
       "\n",
       "#sk-container-id-1 pre {\n",
       "  padding: 0;\n",
       "}\n",
       "\n",
       "#sk-container-id-1 input.sk-hidden--visually {\n",
       "  border: 0;\n",
       "  clip: rect(1px 1px 1px 1px);\n",
       "  clip: rect(1px, 1px, 1px, 1px);\n",
       "  height: 1px;\n",
       "  margin: -1px;\n",
       "  overflow: hidden;\n",
       "  padding: 0;\n",
       "  position: absolute;\n",
       "  width: 1px;\n",
       "}\n",
       "\n",
       "#sk-container-id-1 div.sk-dashed-wrapped {\n",
       "  border: 1px dashed var(--sklearn-color-line);\n",
       "  margin: 0 0.4em 0.5em 0.4em;\n",
       "  box-sizing: border-box;\n",
       "  padding-bottom: 0.4em;\n",
       "  background-color: var(--sklearn-color-background);\n",
       "}\n",
       "\n",
       "#sk-container-id-1 div.sk-container {\n",
       "  /* jupyter's `normalize.less` sets `[hidden] { display: none; }`\n",
       "     but bootstrap.min.css set `[hidden] { display: none !important; }`\n",
       "     so we also need the `!important` here to be able to override the\n",
       "     default hidden behavior on the sphinx rendered scikit-learn.org.\n",
       "     See: https://github.com/scikit-learn/scikit-learn/issues/21755 */\n",
       "  display: inline-block !important;\n",
       "  position: relative;\n",
       "}\n",
       "\n",
       "#sk-container-id-1 div.sk-text-repr-fallback {\n",
       "  display: none;\n",
       "}\n",
       "\n",
       "div.sk-parallel-item,\n",
       "div.sk-serial,\n",
       "div.sk-item {\n",
       "  /* draw centered vertical line to link estimators */\n",
       "  background-image: linear-gradient(var(--sklearn-color-text-on-default-background), var(--sklearn-color-text-on-default-background));\n",
       "  background-size: 2px 100%;\n",
       "  background-repeat: no-repeat;\n",
       "  background-position: center center;\n",
       "}\n",
       "\n",
       "/* Parallel-specific style estimator block */\n",
       "\n",
       "#sk-container-id-1 div.sk-parallel-item::after {\n",
       "  content: \"\";\n",
       "  width: 100%;\n",
       "  border-bottom: 2px solid var(--sklearn-color-text-on-default-background);\n",
       "  flex-grow: 1;\n",
       "}\n",
       "\n",
       "#sk-container-id-1 div.sk-parallel {\n",
       "  display: flex;\n",
       "  align-items: stretch;\n",
       "  justify-content: center;\n",
       "  background-color: var(--sklearn-color-background);\n",
       "  position: relative;\n",
       "}\n",
       "\n",
       "#sk-container-id-1 div.sk-parallel-item {\n",
       "  display: flex;\n",
       "  flex-direction: column;\n",
       "}\n",
       "\n",
       "#sk-container-id-1 div.sk-parallel-item:first-child::after {\n",
       "  align-self: flex-end;\n",
       "  width: 50%;\n",
       "}\n",
       "\n",
       "#sk-container-id-1 div.sk-parallel-item:last-child::after {\n",
       "  align-self: flex-start;\n",
       "  width: 50%;\n",
       "}\n",
       "\n",
       "#sk-container-id-1 div.sk-parallel-item:only-child::after {\n",
       "  width: 0;\n",
       "}\n",
       "\n",
       "/* Serial-specific style estimator block */\n",
       "\n",
       "#sk-container-id-1 div.sk-serial {\n",
       "  display: flex;\n",
       "  flex-direction: column;\n",
       "  align-items: center;\n",
       "  background-color: var(--sklearn-color-background);\n",
       "  padding-right: 1em;\n",
       "  padding-left: 1em;\n",
       "}\n",
       "\n",
       "\n",
       "/* Toggleable style: style used for estimator/Pipeline/ColumnTransformer box that is\n",
       "clickable and can be expanded/collapsed.\n",
       "- Pipeline and ColumnTransformer use this feature and define the default style\n",
       "- Estimators will overwrite some part of the style using the `sk-estimator` class\n",
       "*/\n",
       "\n",
       "/* Pipeline and ColumnTransformer style (default) */\n",
       "\n",
       "#sk-container-id-1 div.sk-toggleable {\n",
       "  /* Default theme specific background. It is overwritten whether we have a\n",
       "  specific estimator or a Pipeline/ColumnTransformer */\n",
       "  background-color: var(--sklearn-color-background);\n",
       "}\n",
       "\n",
       "/* Toggleable label */\n",
       "#sk-container-id-1 label.sk-toggleable__label {\n",
       "  cursor: pointer;\n",
       "  display: block;\n",
       "  width: 100%;\n",
       "  margin-bottom: 0;\n",
       "  padding: 0.5em;\n",
       "  box-sizing: border-box;\n",
       "  text-align: center;\n",
       "}\n",
       "\n",
       "#sk-container-id-1 label.sk-toggleable__label-arrow:before {\n",
       "  /* Arrow on the left of the label */\n",
       "  content: \"▸\";\n",
       "  float: left;\n",
       "  margin-right: 0.25em;\n",
       "  color: var(--sklearn-color-icon);\n",
       "}\n",
       "\n",
       "#sk-container-id-1 label.sk-toggleable__label-arrow:hover:before {\n",
       "  color: var(--sklearn-color-text);\n",
       "}\n",
       "\n",
       "/* Toggleable content - dropdown */\n",
       "\n",
       "#sk-container-id-1 div.sk-toggleable__content {\n",
       "  max-height: 0;\n",
       "  max-width: 0;\n",
       "  overflow: hidden;\n",
       "  text-align: left;\n",
       "  /* unfitted */\n",
       "  background-color: var(--sklearn-color-unfitted-level-0);\n",
       "}\n",
       "\n",
       "#sk-container-id-1 div.sk-toggleable__content.fitted {\n",
       "  /* fitted */\n",
       "  background-color: var(--sklearn-color-fitted-level-0);\n",
       "}\n",
       "\n",
       "#sk-container-id-1 div.sk-toggleable__content pre {\n",
       "  margin: 0.2em;\n",
       "  border-radius: 0.25em;\n",
       "  color: var(--sklearn-color-text);\n",
       "  /* unfitted */\n",
       "  background-color: var(--sklearn-color-unfitted-level-0);\n",
       "}\n",
       "\n",
       "#sk-container-id-1 div.sk-toggleable__content.fitted pre {\n",
       "  /* unfitted */\n",
       "  background-color: var(--sklearn-color-fitted-level-0);\n",
       "}\n",
       "\n",
       "#sk-container-id-1 input.sk-toggleable__control:checked~div.sk-toggleable__content {\n",
       "  /* Expand drop-down */\n",
       "  max-height: 200px;\n",
       "  max-width: 100%;\n",
       "  overflow: auto;\n",
       "}\n",
       "\n",
       "#sk-container-id-1 input.sk-toggleable__control:checked~label.sk-toggleable__label-arrow:before {\n",
       "  content: \"▾\";\n",
       "}\n",
       "\n",
       "/* Pipeline/ColumnTransformer-specific style */\n",
       "\n",
       "#sk-container-id-1 div.sk-label input.sk-toggleable__control:checked~label.sk-toggleable__label {\n",
       "  color: var(--sklearn-color-text);\n",
       "  background-color: var(--sklearn-color-unfitted-level-2);\n",
       "}\n",
       "\n",
       "#sk-container-id-1 div.sk-label.fitted input.sk-toggleable__control:checked~label.sk-toggleable__label {\n",
       "  background-color: var(--sklearn-color-fitted-level-2);\n",
       "}\n",
       "\n",
       "/* Estimator-specific style */\n",
       "\n",
       "/* Colorize estimator box */\n",
       "#sk-container-id-1 div.sk-estimator input.sk-toggleable__control:checked~label.sk-toggleable__label {\n",
       "  /* unfitted */\n",
       "  background-color: var(--sklearn-color-unfitted-level-2);\n",
       "}\n",
       "\n",
       "#sk-container-id-1 div.sk-estimator.fitted input.sk-toggleable__control:checked~label.sk-toggleable__label {\n",
       "  /* fitted */\n",
       "  background-color: var(--sklearn-color-fitted-level-2);\n",
       "}\n",
       "\n",
       "#sk-container-id-1 div.sk-label label.sk-toggleable__label,\n",
       "#sk-container-id-1 div.sk-label label {\n",
       "  /* The background is the default theme color */\n",
       "  color: var(--sklearn-color-text-on-default-background);\n",
       "}\n",
       "\n",
       "/* On hover, darken the color of the background */\n",
       "#sk-container-id-1 div.sk-label:hover label.sk-toggleable__label {\n",
       "  color: var(--sklearn-color-text);\n",
       "  background-color: var(--sklearn-color-unfitted-level-2);\n",
       "}\n",
       "\n",
       "/* Label box, darken color on hover, fitted */\n",
       "#sk-container-id-1 div.sk-label.fitted:hover label.sk-toggleable__label.fitted {\n",
       "  color: var(--sklearn-color-text);\n",
       "  background-color: var(--sklearn-color-fitted-level-2);\n",
       "}\n",
       "\n",
       "/* Estimator label */\n",
       "\n",
       "#sk-container-id-1 div.sk-label label {\n",
       "  font-family: monospace;\n",
       "  font-weight: bold;\n",
       "  display: inline-block;\n",
       "  line-height: 1.2em;\n",
       "}\n",
       "\n",
       "#sk-container-id-1 div.sk-label-container {\n",
       "  text-align: center;\n",
       "}\n",
       "\n",
       "/* Estimator-specific */\n",
       "#sk-container-id-1 div.sk-estimator {\n",
       "  font-family: monospace;\n",
       "  border: 1px dotted var(--sklearn-color-border-box);\n",
       "  border-radius: 0.25em;\n",
       "  box-sizing: border-box;\n",
       "  margin-bottom: 0.5em;\n",
       "  /* unfitted */\n",
       "  background-color: var(--sklearn-color-unfitted-level-0);\n",
       "}\n",
       "\n",
       "#sk-container-id-1 div.sk-estimator.fitted {\n",
       "  /* fitted */\n",
       "  background-color: var(--sklearn-color-fitted-level-0);\n",
       "}\n",
       "\n",
       "/* on hover */\n",
       "#sk-container-id-1 div.sk-estimator:hover {\n",
       "  /* unfitted */\n",
       "  background-color: var(--sklearn-color-unfitted-level-2);\n",
       "}\n",
       "\n",
       "#sk-container-id-1 div.sk-estimator.fitted:hover {\n",
       "  /* fitted */\n",
       "  background-color: var(--sklearn-color-fitted-level-2);\n",
       "}\n",
       "\n",
       "/* Specification for estimator info (e.g. \"i\" and \"?\") */\n",
       "\n",
       "/* Common style for \"i\" and \"?\" */\n",
       "\n",
       ".sk-estimator-doc-link,\n",
       "a:link.sk-estimator-doc-link,\n",
       "a:visited.sk-estimator-doc-link {\n",
       "  float: right;\n",
       "  font-size: smaller;\n",
       "  line-height: 1em;\n",
       "  font-family: monospace;\n",
       "  background-color: var(--sklearn-color-background);\n",
       "  border-radius: 1em;\n",
       "  height: 1em;\n",
       "  width: 1em;\n",
       "  text-decoration: none !important;\n",
       "  margin-left: 1ex;\n",
       "  /* unfitted */\n",
       "  border: var(--sklearn-color-unfitted-level-1) 1pt solid;\n",
       "  color: var(--sklearn-color-unfitted-level-1);\n",
       "}\n",
       "\n",
       ".sk-estimator-doc-link.fitted,\n",
       "a:link.sk-estimator-doc-link.fitted,\n",
       "a:visited.sk-estimator-doc-link.fitted {\n",
       "  /* fitted */\n",
       "  border: var(--sklearn-color-fitted-level-1) 1pt solid;\n",
       "  color: var(--sklearn-color-fitted-level-1);\n",
       "}\n",
       "\n",
       "/* On hover */\n",
       "div.sk-estimator:hover .sk-estimator-doc-link:hover,\n",
       ".sk-estimator-doc-link:hover,\n",
       "div.sk-label-container:hover .sk-estimator-doc-link:hover,\n",
       ".sk-estimator-doc-link:hover {\n",
       "  /* unfitted */\n",
       "  background-color: var(--sklearn-color-unfitted-level-3);\n",
       "  color: var(--sklearn-color-background);\n",
       "  text-decoration: none;\n",
       "}\n",
       "\n",
       "div.sk-estimator.fitted:hover .sk-estimator-doc-link.fitted:hover,\n",
       ".sk-estimator-doc-link.fitted:hover,\n",
       "div.sk-label-container:hover .sk-estimator-doc-link.fitted:hover,\n",
       ".sk-estimator-doc-link.fitted:hover {\n",
       "  /* fitted */\n",
       "  background-color: var(--sklearn-color-fitted-level-3);\n",
       "  color: var(--sklearn-color-background);\n",
       "  text-decoration: none;\n",
       "}\n",
       "\n",
       "/* Span, style for the box shown on hovering the info icon */\n",
       ".sk-estimator-doc-link span {\n",
       "  display: none;\n",
       "  z-index: 9999;\n",
       "  position: relative;\n",
       "  font-weight: normal;\n",
       "  right: .2ex;\n",
       "  padding: .5ex;\n",
       "  margin: .5ex;\n",
       "  width: min-content;\n",
       "  min-width: 20ex;\n",
       "  max-width: 50ex;\n",
       "  color: var(--sklearn-color-text);\n",
       "  box-shadow: 2pt 2pt 4pt #999;\n",
       "  /* unfitted */\n",
       "  background: var(--sklearn-color-unfitted-level-0);\n",
       "  border: .5pt solid var(--sklearn-color-unfitted-level-3);\n",
       "}\n",
       "\n",
       ".sk-estimator-doc-link.fitted span {\n",
       "  /* fitted */\n",
       "  background: var(--sklearn-color-fitted-level-0);\n",
       "  border: var(--sklearn-color-fitted-level-3);\n",
       "}\n",
       "\n",
       ".sk-estimator-doc-link:hover span {\n",
       "  display: block;\n",
       "}\n",
       "\n",
       "/* \"?\"-specific style due to the `<a>` HTML tag */\n",
       "\n",
       "#sk-container-id-1 a.estimator_doc_link {\n",
       "  float: right;\n",
       "  font-size: 1rem;\n",
       "  line-height: 1em;\n",
       "  font-family: monospace;\n",
       "  background-color: var(--sklearn-color-background);\n",
       "  border-radius: 1rem;\n",
       "  height: 1rem;\n",
       "  width: 1rem;\n",
       "  text-decoration: none;\n",
       "  /* unfitted */\n",
       "  color: var(--sklearn-color-unfitted-level-1);\n",
       "  border: var(--sklearn-color-unfitted-level-1) 1pt solid;\n",
       "}\n",
       "\n",
       "#sk-container-id-1 a.estimator_doc_link.fitted {\n",
       "  /* fitted */\n",
       "  border: var(--sklearn-color-fitted-level-1) 1pt solid;\n",
       "  color: var(--sklearn-color-fitted-level-1);\n",
       "}\n",
       "\n",
       "/* On hover */\n",
       "#sk-container-id-1 a.estimator_doc_link:hover {\n",
       "  /* unfitted */\n",
       "  background-color: var(--sklearn-color-unfitted-level-3);\n",
       "  color: var(--sklearn-color-background);\n",
       "  text-decoration: none;\n",
       "}\n",
       "\n",
       "#sk-container-id-1 a.estimator_doc_link.fitted:hover {\n",
       "  /* fitted */\n",
       "  background-color: var(--sklearn-color-fitted-level-3);\n",
       "}\n",
       "</style><div id=\"sk-container-id-1\" class=\"sk-top-container\"><div class=\"sk-text-repr-fallback\"><pre>SVR()</pre><b>In a Jupyter environment, please rerun this cell to show the HTML representation or trust the notebook. <br />On GitHub, the HTML representation is unable to render, please try loading this page with nbviewer.org.</b></div><div class=\"sk-container\" hidden><div class=\"sk-item\"><div class=\"sk-estimator fitted sk-toggleable\"><input class=\"sk-toggleable__control sk-hidden--visually\" id=\"sk-estimator-id-1\" type=\"checkbox\" checked><label for=\"sk-estimator-id-1\" class=\"sk-toggleable__label fitted sk-toggleable__label-arrow fitted\">&nbsp;&nbsp;SVR<a class=\"sk-estimator-doc-link fitted\" rel=\"noreferrer\" target=\"_blank\" href=\"https://scikit-learn.org/1.5/modules/generated/sklearn.svm.SVR.html\">?<span>Documentation for SVR</span></a><span class=\"sk-estimator-doc-link fitted\">i<span>Fitted</span></span></label><div class=\"sk-toggleable__content fitted\"><pre>SVR()</pre></div> </div></div></div></div>"
      ],
      "text/plain": [
       "SVR()"
      ]
     },
     "execution_count": 22,
     "metadata": {},
     "output_type": "execute_result"
    }
   ],
   "source": [
    "# Your code starts here\n",
    "svr.fit(X_train, y_train)\n",
    "# Your code ends here"
   ]
  },
  {
   "cell_type": "markdown",
   "metadata": {
    "id": "SD4SNK_OdJ_H"
   },
   "source": [
    "###Prediction, error estimate, and regression evaluation matrices\n",
    "\n",
    "**Prediction using the svr model**\n",
    "\n",
    "The X_train and y_train dataframes have been used to train the model. Now we will use X_test and y_test to evaluate the efficiency of the model we have trained.\n",
    "\n",
    "Use svr.predict() on X_test and store it in a variable called \"predictions\". Print type and size of the predictions.\n",
    "\n",
    "Size should be (22009,) if everything is correct."
   ]
  },
  {
   "cell_type": "code",
   "execution_count": 23,
   "metadata": {
    "id": "HmexTijIRqnw"
   },
   "outputs": [
    {
     "name": "stdout",
     "output_type": "stream",
     "text": [
      "(22201,) float64\n"
     ]
    }
   ],
   "source": [
    "# Your code starts here\n",
    "predictions = svr.predict(X_test)\n",
    "print(predictions.shape, predictions.dtype)\n",
    "# Your code ends here"
   ]
  },
  {
   "cell_type": "code",
   "execution_count": 24,
   "metadata": {},
   "outputs": [
    {
     "name": "stdout",
     "output_type": "stream",
     "text": [
      "[ 8.97485033  6.35533145 12.57003891 ...  9.20893066  6.83457735\n",
      " 11.73405637]\n"
     ]
    }
   ],
   "source": [
    "print(predictions)"
   ]
  },
  {
   "cell_type": "markdown",
   "metadata": {
    "id": "sga4Hg3UepKU"
   },
   "source": [
    "Now that we have our predictions, let's compare it with y_test and see how accurate our predictions are.\n",
    "\n",
    "Plot a Scatter plot of predicted price and y_test set to see if the data falls on a 45 degree straight line"
   ]
  },
  {
   "cell_type": "code",
   "execution_count": 25,
   "metadata": {
    "id": "jHp_U9M2eqNU"
   },
   "outputs": [
    {
     "data": {
      "image/png": "[encoded data removed]",
      "text/plain": [
       "<Figure size 640x480 with 1 Axes>"
      ]
     },
     "metadata": {},
     "output_type": "display_data"
    }
   ],
   "source": [
    "# Your code starts here\n",
    "plt.scatter(y_test, predictions, color='blue', alpha=0.6)\n",
    "plt.plot([y_test.min(), y_test.max()], [y_test.min(), y_test.max()], color='red', linestyle='--', linewidth=2)  # 45-degree line\n",
    "plt.xlabel('Actual Prices')\n",
    "plt.ylabel('Predicted Prices')\n",
    "plt.title('Predicted vs Actual Prices')\n",
    "plt.grid(True)\n",
    "plt.show()\n",
    "# Your code ends here"
   ]
  },
  {
   "cell_type": "markdown",
   "metadata": {
    "id": "2vT36Pe_e9FN"
   },
   "source": [
    "As you can see, it's not perfect, but you can definitely visualize the data lining up at a 45 degree angle."
   ]
  },
  {
   "cell_type": "markdown",
   "metadata": {
    "id": "IQsb_pyrfXtn"
   },
   "source": [
    "**Model Evaluation**\n",
    "\n",
    "We will be exploring the most common regression metric here namely R2 score. You can check out more metrics here: https://scikit-learn.org/stable/modules/classes.html#regression-metrics"
   ]
  },
  {
   "cell_type": "markdown",
   "metadata": {
    "id": "v4-Epmw9noKL"
   },
   "source": [
    "Here's a video detailing all the popular regression metrics - https://www.youtube.com/watch?v=Ti7c-Hz7GSM"
   ]
  },
  {
   "cell_type": "markdown",
   "metadata": {
    "id": "fhHRK7UDgPY0"
   },
   "source": [
    "**Print the R-square value and round it to 3 decimal places**\n",
    "\n",
    "Hint: sklearn metrics.r2_score"
   ]
  },
  {
   "cell_type": "code",
   "execution_count": 26,
   "metadata": {
    "id": "gFfWbotASprC"
   },
   "outputs": [
    {
     "name": "stdout",
     "output_type": "stream",
     "text": [
      "R² Score: 0.54\n"
     ]
    }
   ],
   "source": [
    "# Your code starts here\n",
    "from sklearn.metrics import r2_score\n",
    "\n",
    "r2 = r2_score(y_test, predictions)\n",
    "print(\"R² Score:\", round(r2, 3))\n",
    "\n",
    "# Your code ends here"
   ]
  },
  {
   "cell_type": "markdown",
   "metadata": {
    "id": "WdKFSPwgg4uO"
   },
   "source": [
    "In the cell below, explain what the above score means and also elaborate how 'good' is the score in terms of evaluation of the model"
   ]
  },
  {
   "cell_type": "markdown",
   "metadata": {
    "id": "WA5e3sDGhoM1"
   },
   "source": [
    "An R² score of 0.54 means the model explains 54% of the variance in the target variable, leaving 46% unexplained. This indicates moderate performance—better than random guessing but far from ideal.\n",
    "\n",
    "\n"
   ]
  },
  {
   "cell_type": "code",
   "execution_count": 27,
   "metadata": {
    "id": "rJIy1XKTgYF9"
   },
   "outputs": [
    {
     "name": "stdout",
     "output_type": "stream",
     "text": [
      "Mean Absolute Error (MAE): 1.413\n"
     ]
    }
   ],
   "source": [
    "#Explore additional metrics here\n",
    "\n",
    "# Mean Absolute Error \n",
    "mae = mean_absolute_error(y_test, predictions)\n",
    "print(\"Mean Absolute Error (MAE):\", round(mae, 3))"
   ]
  },
  {
   "cell_type": "code",
   "execution_count": 28,
   "metadata": {},
   "outputs": [
    {
     "name": "stdout",
     "output_type": "stream",
     "text": [
      "Mean Squared Error (MSE): 4.594\n"
     ]
    }
   ],
   "source": [
    "from sklearn.metrics import mean_squared_error\n",
    "\n",
    "# Calculate MSE\n",
    "mse = mean_squared_error(y_test, predictions)\n",
    "print(\"Mean Squared Error (MSE):\", round(mse, 3))"
   ]
  },
  {
   "cell_type": "code",
   "execution_count": 29,
   "metadata": {},
   "outputs": [
    {
     "name": "stdout",
     "output_type": "stream",
     "text": [
      "Root Mean Squared Error (RMSE): 2.143\n"
     ]
    }
   ],
   "source": [
    "\n",
    "# Calculate RMSE\n",
    "rmse = np.sqrt(mse)\n",
    "print(\"Root Mean Squared Error (RMSE):\", round(rmse, 3))\n"
   ]
  },
  {
   "cell_type": "markdown",
   "metadata": {
    "id": "IFGS6UDWj8vE"
   },
   "source": [
    "You have succesfully implemented Support Vector Regressor to predict Age of a crab. But is this the only regression model out there? In the cell below, list down 3 more regression models with a basic explanation of how they work. Also include a line explaining in which scenario each model works best."
   ]
  },
  {
   "cell_type": "markdown",
   "metadata": {
    "id": "rvDXAqYzkY3Y"
   },
   "source": [
    "**1. XGBoost Regressor**\n",
    "\n",
    "**How it works**: XGBoost is an ensemble method based on decision trees. It builds trees sequentially, where each tree corrects the errors of the previous ones, and uses gradient descent to minimize errors efficiently.\n",
    "\n",
    "    Best scenario: Works well with large datasets and complex relationships, especially when speed and performance are critical.\n",
    "\n",
    "\n",
    "**2. Random Forest Regressor**\n",
    "\n",
    "**How it works**: An ensemble method that constructs multiple decision trees during training. It combines their outputs averages them to improve prediction accuracy and control overfitting.\n",
    "\n",
    "    Best scenario: Ideal for datasets with non-linear relationships and when you need robustness against overfitting.\n",
    "\n",
    "\n",
    "**3. Ridge Regressor**\n",
    "\n",
    "**How it works**: A type of linear regression that adds an L2 regularization term to the cost function, penalizing large coefficients to prevent overfitting.\n",
    "\n",
    "    Best scenario: Useful when you have high-dimensional data with potential multicollinearity, where simple linear regression might overfit."
   ]
  },
  {
   "cell_type": "markdown",
   "metadata": {
    "id": "xAuWmTVncVOT"
   },
   "source": [
    "###Explainability"
   ]
  },
  {
   "cell_type": "markdown",
   "metadata": {
    "id": "WyYUAK4XfMeh"
   },
   "source": [
    "So you passed some data into a model, and trained it using that data. You then used some other data to test the accuracy of that model, and it now predicts values when you pass in some data. Ok. But how does it REALLY predict that value? How much is it relying on each individual feature column of data that you passed to the model? This is where the concept of explainability comes into picture, where you can understand for each data point, exactly what parameters led the model to predict the value that it has."
   ]
  },
  {
   "cell_type": "markdown",
   "metadata": {
    "id": "zRKN_2SdmpTs"
   },
   "source": [
    "Info about explainable AI <br>\n",
    "https://www.ibm.com/topics/explainable-ai <br>\n",
    "About shap <br>\n",
    "https://shap.readthedocs.io/en/latest/example_notebooks/overviews/An%20introduction%20to%20explainable%20AI%20with%20Shapley%20values.html"
   ]
  },
  {
   "cell_type": "code",
   "execution_count": 30,
   "metadata": {
    "colab": {
     "base_uri": "https://localhost:8080/"
    },
    "id": "LTkBOPVWcdgB",
    "outputId": "7a44093b-7892-4267-c805-5d9aea128b6a"
   },
   "outputs": [
    {
     "name": "stderr",
     "output_type": "stream",
     "text": [
      "c:\\Users\\Lenovo\\anaconda3\\envs\\MachineLearning\\Lib\\site-packages\\tqdm\\auto.py:21: TqdmWarning: IProgress not found. Please update jupyter and ipywidgets. See https://ipywidgets.readthedocs.io/en/stable/user_install.html\n",
      "  from .autonotebook import tqdm as notebook_tqdm\n"
     ]
    }
   ],
   "source": [
    "#Run this code as it is\n",
    "from shap import KernelExplainer, force_plot, sample"
   ]
  },
  {
   "cell_type": "code",
   "execution_count": 31,
   "metadata": {
    "colab": {
     "base_uri": "https://localhost:8080/",
     "height": 399
    },
    "id": "EEVCxAMTc77S",
    "outputId": "f2a25b9d-e7b0-4f98-ab94-b19d8f9b7693"
   },
   "outputs": [
    {
     "data": {
      "image/png": "[encoded data removed]",
      "text/plain": [
       "<Figure size 2000x300 with 1 Axes>"
      ]
     },
     "metadata": {},
     "output_type": "display_data"
    }
   ],
   "source": [
    "#Run this code as it is\n",
    "ex = KernelExplainer(svr.predict, sample(X_train, 10))  #only taking sample of 10 values for now\n",
    "shap_values = ex.shap_values(X_test.iloc[0,:]) #explaining 1st tuple of the X_test dataframe\n",
    "force_plot(ex.expected_value, shap_values, X_test.iloc[0,:], matplotlib=True)"
   ]
  },
  {
   "cell_type": "markdown",
   "metadata": {
    "id": "1iovNmhCmF-U"
   },
   "source": [
    "Can you see how the above plot visualizes which parameters contributed significantly to the prediction, and what were the actual values which led to the prediction?"
   ]
  },
  {
   "cell_type": "markdown",
   "metadata": {
    "id": "iZkLv8fNkdF9"
   },
   "source": [
    "##Classification"
   ]
  },
  {
   "cell_type": "markdown",
   "metadata": {
    "id": "YP49CPwAaPLR"
   },
   "source": [
    "In the below cells, we are going to implement K Nearest Neighbour Classification."
   ]
  },
  {
   "cell_type": "markdown",
   "metadata": {
    "id": "mmTPNKuJabqw"
   },
   "source": [
    "Link to the dataset is here - https://drive.google.com/file/d/1bVOfBJYUr0JtZ7pp1lcyNamnHHXn_fDm/view?usp=sharing <br>\n",
    "\n",
    "Import the 'classified_data.txt' dataset using pandas and print the first five columns.\n",
    "\n",
    "Use \"index_col\" parameter to index the dataframe according to the first column. Otherwise, a new column would get created. Call this new dataframe 'df'."
   ]
  },
  {
   "cell_type": "code",
   "execution_count": 32,
   "metadata": {
    "id": "RIRZkDh4kfn6"
   },
   "outputs": [
    {
     "data": {
      "text/html": [
       "<div>\n",
       "<style scoped>\n",
       "    .dataframe tbody tr th:only-of-type {\n",
       "        vertical-align: middle;\n",
       "    }\n",
       "\n",
       "    .dataframe tbody tr th {\n",
       "        vertical-align: top;\n",
       "    }\n",
       "\n",
       "    .dataframe thead th {\n",
       "        text-align: right;\n",
       "    }\n",
       "</style>\n",
       "<table border=\"1\" class=\"dataframe\">\n",
       "  <thead>\n",
       "    <tr style=\"text-align: right;\">\n",
       "      <th></th>\n",
       "      <th>WTT</th>\n",
       "      <th>PTI</th>\n",
       "      <th>EQW</th>\n",
       "      <th>SBI</th>\n",
       "      <th>LQE</th>\n",
       "      <th>QWG</th>\n",
       "      <th>FDJ</th>\n",
       "      <th>PJF</th>\n",
       "      <th>HQE</th>\n",
       "      <th>NXJ</th>\n",
       "      <th>TARGET CLASS</th>\n",
       "    </tr>\n",
       "  </thead>\n",
       "  <tbody>\n",
       "    <tr>\n",
       "      <th>0</th>\n",
       "      <td>0.913917</td>\n",
       "      <td>1.162073</td>\n",
       "      <td>0.567946</td>\n",
       "      <td>0.755464</td>\n",
       "      <td>0.780862</td>\n",
       "      <td>0.352608</td>\n",
       "      <td>0.759697</td>\n",
       "      <td>0.643798</td>\n",
       "      <td>0.879422</td>\n",
       "      <td>1.231409</td>\n",
       "      <td>1</td>\n",
       "    </tr>\n",
       "    <tr>\n",
       "      <th>1</th>\n",
       "      <td>0.635632</td>\n",
       "      <td>1.003722</td>\n",
       "      <td>0.535342</td>\n",
       "      <td>0.825645</td>\n",
       "      <td>0.924109</td>\n",
       "      <td>0.648450</td>\n",
       "      <td>0.675334</td>\n",
       "      <td>1.013546</td>\n",
       "      <td>0.621552</td>\n",
       "      <td>1.492702</td>\n",
       "      <td>0</td>\n",
       "    </tr>\n",
       "    <tr>\n",
       "      <th>2</th>\n",
       "      <td>0.721360</td>\n",
       "      <td>1.201493</td>\n",
       "      <td>0.921990</td>\n",
       "      <td>0.855595</td>\n",
       "      <td>1.526629</td>\n",
       "      <td>0.720781</td>\n",
       "      <td>1.626351</td>\n",
       "      <td>1.154483</td>\n",
       "      <td>0.957877</td>\n",
       "      <td>1.285597</td>\n",
       "      <td>0</td>\n",
       "    </tr>\n",
       "    <tr>\n",
       "      <th>3</th>\n",
       "      <td>1.234204</td>\n",
       "      <td>1.386726</td>\n",
       "      <td>0.653046</td>\n",
       "      <td>0.825624</td>\n",
       "      <td>1.142504</td>\n",
       "      <td>0.875128</td>\n",
       "      <td>1.409708</td>\n",
       "      <td>1.380003</td>\n",
       "      <td>1.522692</td>\n",
       "      <td>1.153093</td>\n",
       "      <td>1</td>\n",
       "    </tr>\n",
       "    <tr>\n",
       "      <th>4</th>\n",
       "      <td>1.279491</td>\n",
       "      <td>0.949750</td>\n",
       "      <td>0.627280</td>\n",
       "      <td>0.668976</td>\n",
       "      <td>1.232537</td>\n",
       "      <td>0.703727</td>\n",
       "      <td>1.115596</td>\n",
       "      <td>0.646691</td>\n",
       "      <td>1.463812</td>\n",
       "      <td>1.419167</td>\n",
       "      <td>1</td>\n",
       "    </tr>\n",
       "  </tbody>\n",
       "</table>\n",
       "</div>"
      ],
      "text/plain": [
       "        WTT       PTI       EQW       SBI       LQE       QWG       FDJ  \\\n",
       "0  0.913917  1.162073  0.567946  0.755464  0.780862  0.352608  0.759697   \n",
       "1  0.635632  1.003722  0.535342  0.825645  0.924109  0.648450  0.675334   \n",
       "2  0.721360  1.201493  0.921990  0.855595  1.526629  0.720781  1.626351   \n",
       "3  1.234204  1.386726  0.653046  0.825624  1.142504  0.875128  1.409708   \n",
       "4  1.279491  0.949750  0.627280  0.668976  1.232537  0.703727  1.115596   \n",
       "\n",
       "        PJF       HQE       NXJ  TARGET CLASS  \n",
       "0  0.643798  0.879422  1.231409             1  \n",
       "1  1.013546  0.621552  1.492702             0  \n",
       "2  1.154483  0.957877  1.285597             0  \n",
       "3  1.380003  1.522692  1.153093             1  \n",
       "4  0.646691  1.463812  1.419167             1  "
      ]
     },
     "execution_count": 32,
     "metadata": {},
     "output_type": "execute_result"
    }
   ],
   "source": [
    "df = pd.read_csv('classified_data.txt',index_col=0)\n",
    "df.head()"
   ]
  },
  {
   "cell_type": "markdown",
   "metadata": {
    "id": "7e2i4VAAbMV1"
   },
   "source": [
    "If you're wondering what these column names signify, well they are classified as the dataset name suggests. Our job here is to simply take the data at face value and build a model for classifying the target classes."
   ]
  },
  {
   "cell_type": "markdown",
   "metadata": {
    "id": "iTDotn2fehbC"
   },
   "source": [
    "###Basic EDA"
   ]
  },
  {
   "cell_type": "markdown",
   "metadata": {
    "id": "b_pCB4WwdEXw"
   },
   "source": [
    "In the following two cells, use info() and describe() to get the data type and statistical summary of the dataset"
   ]
  },
  {
   "cell_type": "code",
   "execution_count": 33,
   "metadata": {
    "id": "qiDSkVI7dS3J"
   },
   "outputs": [
    {
     "name": "stdout",
     "output_type": "stream",
     "text": [
      "<class 'pandas.core.frame.DataFrame'>\n",
      "Index: 1000 entries, 0 to 999\n",
      "Data columns (total 11 columns):\n",
      " #   Column        Non-Null Count  Dtype  \n",
      "---  ------        --------------  -----  \n",
      " 0   WTT           1000 non-null   float64\n",
      " 1   PTI           1000 non-null   float64\n",
      " 2   EQW           1000 non-null   float64\n",
      " 3   SBI           1000 non-null   float64\n",
      " 4   LQE           1000 non-null   float64\n",
      " 5   QWG           1000 non-null   float64\n",
      " 6   FDJ           1000 non-null   float64\n",
      " 7   PJF           1000 non-null   float64\n",
      " 8   HQE           1000 non-null   float64\n",
      " 9   NXJ           1000 non-null   float64\n",
      " 10  TARGET CLASS  1000 non-null   int64  \n",
      "dtypes: float64(10), int64(1)\n",
      "memory usage: 93.8 KB\n"
     ]
    }
   ],
   "source": [
    "#info()\n",
    "df.info()"
   ]
  },
  {
   "cell_type": "code",
   "execution_count": 34,
   "metadata": {
    "id": "QOFgBIJqdWve"
   },
   "outputs": [
    {
     "data": {
      "text/html": [
       "<div>\n",
       "<style scoped>\n",
       "    .dataframe tbody tr th:only-of-type {\n",
       "        vertical-align: middle;\n",
       "    }\n",
       "\n",
       "    .dataframe tbody tr th {\n",
       "        vertical-align: top;\n",
       "    }\n",
       "\n",
       "    .dataframe thead th {\n",
       "        text-align: right;\n",
       "    }\n",
       "</style>\n",
       "<table border=\"1\" class=\"dataframe\">\n",
       "  <thead>\n",
       "    <tr style=\"text-align: right;\">\n",
       "      <th></th>\n",
       "      <th>WTT</th>\n",
       "      <th>PTI</th>\n",
       "      <th>EQW</th>\n",
       "      <th>SBI</th>\n",
       "      <th>LQE</th>\n",
       "      <th>QWG</th>\n",
       "      <th>FDJ</th>\n",
       "      <th>PJF</th>\n",
       "      <th>HQE</th>\n",
       "      <th>NXJ</th>\n",
       "      <th>TARGET CLASS</th>\n",
       "    </tr>\n",
       "  </thead>\n",
       "  <tbody>\n",
       "    <tr>\n",
       "      <th>count</th>\n",
       "      <td>1000.000000</td>\n",
       "      <td>1000.000000</td>\n",
       "      <td>1000.000000</td>\n",
       "      <td>1000.000000</td>\n",
       "      <td>1000.000000</td>\n",
       "      <td>1000.000000</td>\n",
       "      <td>1000.000000</td>\n",
       "      <td>1000.000000</td>\n",
       "      <td>1000.000000</td>\n",
       "      <td>1000.000000</td>\n",
       "      <td>1000.00000</td>\n",
       "    </tr>\n",
       "    <tr>\n",
       "      <th>mean</th>\n",
       "      <td>0.949682</td>\n",
       "      <td>1.114303</td>\n",
       "      <td>0.834127</td>\n",
       "      <td>0.682099</td>\n",
       "      <td>1.032336</td>\n",
       "      <td>0.943534</td>\n",
       "      <td>0.963422</td>\n",
       "      <td>1.071960</td>\n",
       "      <td>1.158251</td>\n",
       "      <td>1.362725</td>\n",
       "      <td>0.50000</td>\n",
       "    </tr>\n",
       "    <tr>\n",
       "      <th>std</th>\n",
       "      <td>0.289635</td>\n",
       "      <td>0.257085</td>\n",
       "      <td>0.291554</td>\n",
       "      <td>0.229645</td>\n",
       "      <td>0.243413</td>\n",
       "      <td>0.256121</td>\n",
       "      <td>0.255118</td>\n",
       "      <td>0.288982</td>\n",
       "      <td>0.293738</td>\n",
       "      <td>0.204225</td>\n",
       "      <td>0.50025</td>\n",
       "    </tr>\n",
       "    <tr>\n",
       "      <th>min</th>\n",
       "      <td>0.174412</td>\n",
       "      <td>0.441398</td>\n",
       "      <td>0.170924</td>\n",
       "      <td>0.045027</td>\n",
       "      <td>0.315307</td>\n",
       "      <td>0.262389</td>\n",
       "      <td>0.295228</td>\n",
       "      <td>0.299476</td>\n",
       "      <td>0.365157</td>\n",
       "      <td>0.639693</td>\n",
       "      <td>0.00000</td>\n",
       "    </tr>\n",
       "    <tr>\n",
       "      <th>25%</th>\n",
       "      <td>0.742358</td>\n",
       "      <td>0.942071</td>\n",
       "      <td>0.615451</td>\n",
       "      <td>0.515010</td>\n",
       "      <td>0.870855</td>\n",
       "      <td>0.761064</td>\n",
       "      <td>0.784407</td>\n",
       "      <td>0.866306</td>\n",
       "      <td>0.934340</td>\n",
       "      <td>1.222623</td>\n",
       "      <td>0.00000</td>\n",
       "    </tr>\n",
       "    <tr>\n",
       "      <th>50%</th>\n",
       "      <td>0.940475</td>\n",
       "      <td>1.118486</td>\n",
       "      <td>0.813264</td>\n",
       "      <td>0.676835</td>\n",
       "      <td>1.035824</td>\n",
       "      <td>0.941502</td>\n",
       "      <td>0.945333</td>\n",
       "      <td>1.065500</td>\n",
       "      <td>1.165556</td>\n",
       "      <td>1.375368</td>\n",
       "      <td>0.50000</td>\n",
       "    </tr>\n",
       "    <tr>\n",
       "      <th>75%</th>\n",
       "      <td>1.163295</td>\n",
       "      <td>1.307904</td>\n",
       "      <td>1.028340</td>\n",
       "      <td>0.834317</td>\n",
       "      <td>1.198270</td>\n",
       "      <td>1.123060</td>\n",
       "      <td>1.134852</td>\n",
       "      <td>1.283156</td>\n",
       "      <td>1.383173</td>\n",
       "      <td>1.504832</td>\n",
       "      <td>1.00000</td>\n",
       "    </tr>\n",
       "    <tr>\n",
       "      <th>max</th>\n",
       "      <td>1.721779</td>\n",
       "      <td>1.833757</td>\n",
       "      <td>1.722725</td>\n",
       "      <td>1.634884</td>\n",
       "      <td>1.650050</td>\n",
       "      <td>1.666902</td>\n",
       "      <td>1.713342</td>\n",
       "      <td>1.785420</td>\n",
       "      <td>1.885690</td>\n",
       "      <td>1.893950</td>\n",
       "      <td>1.00000</td>\n",
       "    </tr>\n",
       "  </tbody>\n",
       "</table>\n",
       "</div>"
      ],
      "text/plain": [
       "               WTT          PTI          EQW          SBI          LQE  \\\n",
       "count  1000.000000  1000.000000  1000.000000  1000.000000  1000.000000   \n",
       "mean      0.949682     1.114303     0.834127     0.682099     1.032336   \n",
       "std       0.289635     0.257085     0.291554     0.229645     0.243413   \n",
       "min       0.174412     0.441398     0.170924     0.045027     0.315307   \n",
       "25%       0.742358     0.942071     0.615451     0.515010     0.870855   \n",
       "50%       0.940475     1.118486     0.813264     0.676835     1.035824   \n",
       "75%       1.163295     1.307904     1.028340     0.834317     1.198270   \n",
       "max       1.721779     1.833757     1.722725     1.634884     1.650050   \n",
       "\n",
       "               QWG          FDJ          PJF          HQE          NXJ  \\\n",
       "count  1000.000000  1000.000000  1000.000000  1000.000000  1000.000000   \n",
       "mean      0.943534     0.963422     1.071960     1.158251     1.362725   \n",
       "std       0.256121     0.255118     0.288982     0.293738     0.204225   \n",
       "min       0.262389     0.295228     0.299476     0.365157     0.639693   \n",
       "25%       0.761064     0.784407     0.866306     0.934340     1.222623   \n",
       "50%       0.941502     0.945333     1.065500     1.165556     1.375368   \n",
       "75%       1.123060     1.134852     1.283156     1.383173     1.504832   \n",
       "max       1.666902     1.713342     1.785420     1.885690     1.893950   \n",
       "\n",
       "       TARGET CLASS  \n",
       "count    1000.00000  \n",
       "mean        0.50000  \n",
       "std         0.50025  \n",
       "min         0.00000  \n",
       "25%         0.00000  \n",
       "50%         0.50000  \n",
       "75%         1.00000  \n",
       "max         1.00000  "
      ]
     },
     "execution_count": 34,
     "metadata": {},
     "output_type": "execute_result"
    }
   ],
   "source": [
    "#describe()\n",
    "df.describe()"
   ]
  },
  {
   "cell_type": "markdown",
   "metadata": {
    "id": "N3g0ISUGYNDZ"
   },
   "source": [
    "**Run a 'for' loop to draw boxplots of all the features for '0' and '1' TARGET CLASS**<br>\n",
    "Hint: Loop through each of the 10 features and draw a separate boxplot. You should have 10 boxplots in total. <br>\n",
    "Refer seaborn boxplot() documentation"
   ]
  },
  {
   "cell_type": "markdown",
   "metadata": {
    "id": "FNvNOqmDo1R8"
   },
   "source": [
    "Here is some information about boxplots:\n",
    "\n",
    "Understanding Boxplots:\n",
    "https://medium.com/analytics-vidhya/introduction-to-box-plots-and-how-to-interpret-them-22464acbcba7 <br>\n",
    "Comparing two boxplots: https://www.nagwa.com/en/explainers/812192146073/"
   ]
  },
  {
   "cell_type": "code",
   "execution_count": 35,
   "metadata": {
    "id": "kORQOo9gYNDZ",
    "scrolled": false
   },
   "outputs": [
    {
     "data": {
      "image/png": "[encoded data removed]",
      "text/plain": [
       "<Figure size 640x480 with 1 Axes>"
      ]
     },
     "metadata": {},
     "output_type": "display_data"
    },
    {
     "data": {
      "image/png": "[encoded data removed]",
      "text/plain": [
       "<Figure size 640x480 with 1 Axes>"
      ]
     },
     "metadata": {},
     "output_type": "display_data"
    },
    {
     "data": {
      "image/png": "[encoded data removed]",
      "text/plain": [
       "<Figure size 640x480 with 1 Axes>"
      ]
     },
     "metadata": {},
     "output_type": "display_data"
    },
    {
     "data": {
      "image/png": "[encoded data removed]",
      "text/plain": [
       "<Figure size 640x480 with 1 Axes>"
      ]
     },
     "metadata": {},
     "output_type": "display_data"
    },
    {
     "data": {
      "image/png": "[encoded data removed]",
      "text/plain": [
       "<Figure size 640x480 with 1 Axes>"
      ]
     },
     "metadata": {},
     "output_type": "display_data"
    },
    {
     "data": {
      "image/png": "[encoded data removed]",
      "text/plain": [
       "<Figure size 640x480 with 1 Axes>"
      ]
     },
     "metadata": {},
     "output_type": "display_data"
    },
    {
     "data": {
      "image/png": "[encoded data removed]",
      "text/plain": [
       "<Figure size 640x480 with 1 Axes>"
      ]
     },
     "metadata": {},
     "output_type": "display_data"
    },
    {
     "data": {
      "image/png": "[encoded data removed]",
      "text/plain": [
       "<Figure size 640x480 with 1 Axes>"
      ]
     },
     "metadata": {},
     "output_type": "display_data"
    },
    {
     "data": {
      "image/png": "[encoded data removed]",
      "text/plain": [
       "<Figure size 640x480 with 1 Axes>"
      ]
     },
     "metadata": {},
     "output_type": "display_data"
    },
    {
     "data": {
      "image/png": "[encoded data removed]",
      "text/plain": [
       "<Figure size 640x480 with 1 Axes>"
      ]
     },
     "metadata": {},
     "output_type": "display_data"
    }
   ],
   "source": [
    "# your code starts here\n",
    "\n",
    "features = df.columns[:-1]\n",
    "\n",
    "for feature in features:\n",
    "    sns.boxplot(x='TARGET CLASS', y=feature, data=df)\n",
    "    plt.title(f'Boxplot of {feature} by Target Class')\n",
    "    plt.xlabel('Target Class')\n",
    "    plt.ylabel(feature)\n",
    "    plt.grid(True)\n",
    "    plt.show()\n",
    "# your code ends here"
   ]
  },
  {
   "cell_type": "markdown",
   "metadata": {
    "id": "miAhtoazeBJu"
   },
   "source": [
    "What conclusion, if any can you draw from these boxplots?\n",
    "List them down below."
   ]
  },
  {
   "cell_type": "markdown",
   "metadata": {
    "id": "ud0BEc1oeJvE"
   },
   "source": [
    "Text here"
   ]
  },
  {
   "cell_type": "markdown",
   "metadata": {
    "id": "OIFaYgUWYNDa"
   },
   "source": [
    "### Standardize the features using sklearn.preprocessing\n",
    "Why should we standardize?<br>\n",
    "Variables that are measured at different scales do not contribute equally to the model fitting & model learned function and might end up creating a bias. Thus, to deal with this potential problem feature-wise standardization is usually used prior to model fitting.<br><br>\n",
    "\n",
    "To give you an example, values pertaining to Age usually lie within the range of 1-100, however values pertaining to Salary lie in a much wider range of say 10000-1000000. You can see how having both columns be a part of a classification model as is would lead to an imbalance in importance assigned to columns.\n",
    "<br><br>\n",
    "Go through this link for a better understanding:<br>\n",
    "https://towardsdatascience.com/how-and-why-to-standardize-your-data-996926c2c832"
   ]
  },
  {
   "cell_type": "markdown",
   "metadata": {
    "id": "EzMEGA9fYNDa"
   },
   "source": [
    "**import StandardScaler from Sklearn and instantiate it to a variable called \"scaler\"**"
   ]
  },
  {
   "cell_type": "code",
   "execution_count": 36,
   "metadata": {
    "id": "HVWU81uvYNDb"
   },
   "outputs": [],
   "source": [
    "# your code starts here\n",
    "from sklearn.preprocessing import StandardScaler\n",
    "\n",
    "scaler = StandardScaler()\n",
    "# your code ends here"
   ]
  },
  {
   "cell_type": "markdown",
   "metadata": {
    "id": "HlKUjW9XYNDb"
   },
   "source": [
    "**Fit only the features data to this scaler (leaving the TARGET CLASS column out) and then transform**<br>\n",
    "Hint: scaler.fit() and scaler.transform()"
   ]
  },
  {
   "cell_type": "code",
   "execution_count": 48,
   "metadata": {},
   "outputs": [
    {
     "name": "stdout",
     "output_type": "stream",
     "text": [
      "Index(['WTT', 'PTI', 'EQW', 'SBI', 'LQE', 'QWG', 'FDJ', 'PJF', 'HQE', 'NXJ'], dtype='object')\n"
     ]
    }
   ],
   "source": [
    "print(features)"
   ]
  },
  {
   "cell_type": "code",
   "execution_count": 50,
   "metadata": {
    "id": "MCbkapp4YNDb"
   },
   "outputs": [],
   "source": [
    "# your code starts here\n",
    "scaled_data = scaler.fit_transform(df[features])\n",
    "# your code ends here"
   ]
  },
  {
   "cell_type": "markdown",
   "metadata": {
    "id": "uZTbl8UBYNDc"
   },
   "source": [
    "**scaler.transform() will return an array. We need to convert this into a dataframe. Do this and add the column names to the dataframe. Call this new dataframe as \"df_feat\". Call head() on this df**<br>\n",
    "Note: The final dataframe will have the initial columns except the \"TARGET CLASS\"."
   ]
  },
  {
   "cell_type": "code",
   "execution_count": 51,
   "metadata": {
    "id": "m6DnntqtYNDc"
   },
   "outputs": [
    {
     "data": {
      "text/html": [
       "<div>\n",
       "<style scoped>\n",
       "    .dataframe tbody tr th:only-of-type {\n",
       "        vertical-align: middle;\n",
       "    }\n",
       "\n",
       "    .dataframe tbody tr th {\n",
       "        vertical-align: top;\n",
       "    }\n",
       "\n",
       "    .dataframe thead th {\n",
       "        text-align: right;\n",
       "    }\n",
       "</style>\n",
       "<table border=\"1\" class=\"dataframe\">\n",
       "  <thead>\n",
       "    <tr style=\"text-align: right;\">\n",
       "      <th></th>\n",
       "      <th>WTT</th>\n",
       "      <th>PTI</th>\n",
       "      <th>EQW</th>\n",
       "      <th>SBI</th>\n",
       "      <th>LQE</th>\n",
       "      <th>QWG</th>\n",
       "      <th>FDJ</th>\n",
       "      <th>PJF</th>\n",
       "      <th>HQE</th>\n",
       "      <th>NXJ</th>\n",
       "    </tr>\n",
       "  </thead>\n",
       "  <tbody>\n",
       "    <tr>\n",
       "      <th>0</th>\n",
       "      <td>-0.123542</td>\n",
       "      <td>0.185907</td>\n",
       "      <td>-0.913431</td>\n",
       "      <td>0.319629</td>\n",
       "      <td>-1.033637</td>\n",
       "      <td>-2.308375</td>\n",
       "      <td>-0.798951</td>\n",
       "      <td>-1.482368</td>\n",
       "      <td>-0.949719</td>\n",
       "      <td>-0.643314</td>\n",
       "    </tr>\n",
       "    <tr>\n",
       "      <th>1</th>\n",
       "      <td>-1.084836</td>\n",
       "      <td>-0.430348</td>\n",
       "      <td>-1.025313</td>\n",
       "      <td>0.625388</td>\n",
       "      <td>-0.444847</td>\n",
       "      <td>-1.152706</td>\n",
       "      <td>-1.129797</td>\n",
       "      <td>-0.202240</td>\n",
       "      <td>-1.828051</td>\n",
       "      <td>0.636759</td>\n",
       "    </tr>\n",
       "    <tr>\n",
       "      <th>2</th>\n",
       "      <td>-0.788702</td>\n",
       "      <td>0.339318</td>\n",
       "      <td>0.301511</td>\n",
       "      <td>0.755873</td>\n",
       "      <td>2.031693</td>\n",
       "      <td>-0.870156</td>\n",
       "      <td>2.599818</td>\n",
       "      <td>0.285707</td>\n",
       "      <td>-0.682494</td>\n",
       "      <td>-0.377850</td>\n",
       "    </tr>\n",
       "    <tr>\n",
       "      <th>3</th>\n",
       "      <td>0.982841</td>\n",
       "      <td>1.060193</td>\n",
       "      <td>-0.621399</td>\n",
       "      <td>0.625299</td>\n",
       "      <td>0.452820</td>\n",
       "      <td>-0.267220</td>\n",
       "      <td>1.750208</td>\n",
       "      <td>1.066491</td>\n",
       "      <td>1.241325</td>\n",
       "      <td>-1.026987</td>\n",
       "    </tr>\n",
       "    <tr>\n",
       "      <th>4</th>\n",
       "      <td>1.139275</td>\n",
       "      <td>-0.640392</td>\n",
       "      <td>-0.709819</td>\n",
       "      <td>-0.057175</td>\n",
       "      <td>0.822886</td>\n",
       "      <td>-0.936773</td>\n",
       "      <td>0.596782</td>\n",
       "      <td>-1.472352</td>\n",
       "      <td>1.040772</td>\n",
       "      <td>0.276510</td>\n",
       "    </tr>\n",
       "  </tbody>\n",
       "</table>\n",
       "</div>"
      ],
      "text/plain": [
       "        WTT       PTI       EQW       SBI       LQE       QWG       FDJ  \\\n",
       "0 -0.123542  0.185907 -0.913431  0.319629 -1.033637 -2.308375 -0.798951   \n",
       "1 -1.084836 -0.430348 -1.025313  0.625388 -0.444847 -1.152706 -1.129797   \n",
       "2 -0.788702  0.339318  0.301511  0.755873  2.031693 -0.870156  2.599818   \n",
       "3  0.982841  1.060193 -0.621399  0.625299  0.452820 -0.267220  1.750208   \n",
       "4  1.139275 -0.640392 -0.709819 -0.057175  0.822886 -0.936773  0.596782   \n",
       "\n",
       "        PJF       HQE       NXJ  \n",
       "0 -1.482368 -0.949719 -0.643314  \n",
       "1 -0.202240 -1.828051  0.636759  \n",
       "2  0.285707 -0.682494 -0.377850  \n",
       "3  1.066491  1.241325 -1.026987  \n",
       "4 -1.472352  1.040772  0.276510  "
      ]
     },
     "execution_count": 51,
     "metadata": {},
     "output_type": "execute_result"
    }
   ],
   "source": [
    "# your code starts here\n",
    "df_feat = pd.DataFrame(scaled_data, columns=features)\n",
    "df_feat.head()\n",
    "# your code ends here"
   ]
  },
  {
   "cell_type": "markdown",
   "metadata": {
    "id": "vWiXgySxYNDd"
   },
   "source": [
    "### Train/Test split"
   ]
  },
  {
   "cell_type": "markdown",
   "metadata": {
    "id": "xgJQPOfXYNDd"
   },
   "source": [
    "**Set X to be equal to df_feat and set y accordingly. As you know, X contains our training features and y contains our target.**<br>\n",
    "Hint: y can be taken directly from the initial dataframe \"df\""
   ]
  },
  {
   "cell_type": "code",
   "execution_count": 52,
   "metadata": {
    "id": "W94s-2-jYNDd"
   },
   "outputs": [],
   "source": [
    "# Your code starts here.\n",
    "X = df_feat\n",
    "y = df['TARGET CLASS']\n",
    "# Your code ends here"
   ]
  },
  {
   "cell_type": "markdown",
   "metadata": {
    "id": "5tyZdg0nYNDd"
   },
   "source": [
    "**Import train_test_split function from scikit-learn**<br>\n",
    "**Create X and y train and test splits in one command using a test size of 0.3 and a random seed**<br>\n",
    "They should be called X_train, X_test, y_train, y_test"
   ]
  },
  {
   "cell_type": "code",
   "execution_count": 54,
   "metadata": {
    "id": "wiNlmT2IYNDe"
   },
   "outputs": [
    {
     "name": "stdout",
     "output_type": "stream",
     "text": [
      "(700, 10) (300, 10) (700,) (300,)\n"
     ]
    }
   ],
   "source": [
    "# Your code starts here.\n",
    "from sklearn.model_selection import train_test_split\n",
    "\n",
    "X_train, X_test, y_train, y_test = train_test_split(X, y, test_size=0.3, random_state=2)\n",
    "print(X_train.shape, X_test.shape, y_train.shape, y_test.shape)\n",
    "# Your code ends here"
   ]
  },
  {
   "cell_type": "markdown",
   "metadata": {
    "id": "N6tS1j4iYNDe"
   },
   "source": [
    "### Model fit and training"
   ]
  },
  {
   "cell_type": "markdown",
   "metadata": {
    "id": "FA3lK0EipOMF"
   },
   "source": [
    "Before moving ahead with the cells below, learn how the K Nearest Neighbour Algorithm actually works.\n",
    "\n",
    "Theory and implementation : https://youtu.be/wTF6vzS9fy4 <br>\n",
    "Theory: https://www.analyticsvidhya.com/blog/2018/08/k-nearest-neighbor-introduction-regression-python/"
   ]
  },
  {
   "cell_type": "markdown",
   "metadata": {
    "id": "7A_LeaNAYNDe"
   },
   "source": [
    "**import KNeighborsClassifier from sklearn and initialize it with neighbours = 1 (more on this later) . Fit this on X_train and y_train**"
   ]
  },
  {
   "cell_type": "code",
   "execution_count": 55,
   "metadata": {
    "id": "kaSJJTYDYNDf"
   },
   "outputs": [
    {
     "data": {
      "text/html": [
       "<style>#sk-container-id-2 {\n",
       "  /* Definition of color scheme common for light and dark mode */\n",
       "  --sklearn-color-text: black;\n",
       "  --sklearn-color-line: gray;\n",
       "  /* Definition of color scheme for unfitted estimators */\n",
       "  --sklearn-color-unfitted-level-0: #fff5e6;\n",
       "  --sklearn-color-unfitted-level-1: #f6e4d2;\n",
       "  --sklearn-color-unfitted-level-2: #ffe0b3;\n",
       "  --sklearn-color-unfitted-level-3: chocolate;\n",
       "  /* Definition of color scheme for fitted estimators */\n",
       "  --sklearn-color-fitted-level-0: #f0f8ff;\n",
       "  --sklearn-color-fitted-level-1: #d4ebff;\n",
       "  --sklearn-color-fitted-level-2: #b3dbfd;\n",
       "  --sklearn-color-fitted-level-3: cornflowerblue;\n",
       "\n",
       "  /* Specific color for light theme */\n",
       "  --sklearn-color-text-on-default-background: var(--sg-text-color, var(--theme-code-foreground, var(--jp-content-font-color1, black)));\n",
       "  --sklearn-color-background: var(--sg-background-color, var(--theme-background, var(--jp-layout-color0, white)));\n",
       "  --sklearn-color-border-box: var(--sg-text-color, var(--theme-code-foreground, var(--jp-content-font-color1, black)));\n",
       "  --sklearn-color-icon: #696969;\n",
       "\n",
       "  @media (prefers-color-scheme: dark) {\n",
       "    /* Redefinition of color scheme for dark theme */\n",
       "    --sklearn-color-text-on-default-background: var(--sg-text-color, var(--theme-code-foreground, var(--jp-content-font-color1, white)));\n",
       "    --sklearn-color-background: var(--sg-background-color, var(--theme-background, var(--jp-layout-color0, #111)));\n",
       "    --sklearn-color-border-box: var(--sg-text-color, var(--theme-code-foreground, var(--jp-content-font-color1, white)));\n",
       "    --sklearn-color-icon: #878787;\n",
       "  }\n",
       "}\n",
       "\n",
       "#sk-container-id-2 {\n",
       "  color: var(--sklearn-color-text);\n",
       "}\n",
       "\n",
       "#sk-container-id-2 pre {\n",
       "  padding: 0;\n",
       "}\n",
       "\n",
       "#sk-container-id-2 input.sk-hidden--visually {\n",
       "  border: 0;\n",
       "  clip: rect(1px 1px 1px 1px);\n",
       "  clip: rect(1px, 1px, 1px, 1px);\n",
       "  height: 1px;\n",
       "  margin: -1px;\n",
       "  overflow: hidden;\n",
       "  padding: 0;\n",
       "  position: absolute;\n",
       "  width: 1px;\n",
       "}\n",
       "\n",
       "#sk-container-id-2 div.sk-dashed-wrapped {\n",
       "  border: 1px dashed var(--sklearn-color-line);\n",
       "  margin: 0 0.4em 0.5em 0.4em;\n",
       "  box-sizing: border-box;\n",
       "  padding-bottom: 0.4em;\n",
       "  background-color: var(--sklearn-color-background);\n",
       "}\n",
       "\n",
       "#sk-container-id-2 div.sk-container {\n",
       "  /* jupyter's `normalize.less` sets `[hidden] { display: none; }`\n",
       "     but bootstrap.min.css set `[hidden] { display: none !important; }`\n",
       "     so we also need the `!important` here to be able to override the\n",
       "     default hidden behavior on the sphinx rendered scikit-learn.org.\n",
       "     See: https://github.com/scikit-learn/scikit-learn/issues/21755 */\n",
       "  display: inline-block !important;\n",
       "  position: relative;\n",
       "}\n",
       "\n",
       "#sk-container-id-2 div.sk-text-repr-fallback {\n",
       "  display: none;\n",
       "}\n",
       "\n",
       "div.sk-parallel-item,\n",
       "div.sk-serial,\n",
       "div.sk-item {\n",
       "  /* draw centered vertical line to link estimators */\n",
       "  background-image: linear-gradient(var(--sklearn-color-text-on-default-background), var(--sklearn-color-text-on-default-background));\n",
       "  background-size: 2px 100%;\n",
       "  background-repeat: no-repeat;\n",
       "  background-position: center center;\n",
       "}\n",
       "\n",
       "/* Parallel-specific style estimator block */\n",
       "\n",
       "#sk-container-id-2 div.sk-parallel-item::after {\n",
       "  content: \"\";\n",
       "  width: 100%;\n",
       "  border-bottom: 2px solid var(--sklearn-color-text-on-default-background);\n",
       "  flex-grow: 1;\n",
       "}\n",
       "\n",
       "#sk-container-id-2 div.sk-parallel {\n",
       "  display: flex;\n",
       "  align-items: stretch;\n",
       "  justify-content: center;\n",
       "  background-color: var(--sklearn-color-background);\n",
       "  position: relative;\n",
       "}\n",
       "\n",
       "#sk-container-id-2 div.sk-parallel-item {\n",
       "  display: flex;\n",
       "  flex-direction: column;\n",
       "}\n",
       "\n",
       "#sk-container-id-2 div.sk-parallel-item:first-child::after {\n",
       "  align-self: flex-end;\n",
       "  width: 50%;\n",
       "}\n",
       "\n",
       "#sk-container-id-2 div.sk-parallel-item:last-child::after {\n",
       "  align-self: flex-start;\n",
       "  width: 50%;\n",
       "}\n",
       "\n",
       "#sk-container-id-2 div.sk-parallel-item:only-child::after {\n",
       "  width: 0;\n",
       "}\n",
       "\n",
       "/* Serial-specific style estimator block */\n",
       "\n",
       "#sk-container-id-2 div.sk-serial {\n",
       "  display: flex;\n",
       "  flex-direction: column;\n",
       "  align-items: center;\n",
       "  background-color: var(--sklearn-color-background);\n",
       "  padding-right: 1em;\n",
       "  padding-left: 1em;\n",
       "}\n",
       "\n",
       "\n",
       "/* Toggleable style: style used for estimator/Pipeline/ColumnTransformer box that is\n",
       "clickable and can be expanded/collapsed.\n",
       "- Pipeline and ColumnTransformer use this feature and define the default style\n",
       "- Estimators will overwrite some part of the style using the `sk-estimator` class\n",
       "*/\n",
       "\n",
       "/* Pipeline and ColumnTransformer style (default) */\n",
       "\n",
       "#sk-container-id-2 div.sk-toggleable {\n",
       "  /* Default theme specific background. It is overwritten whether we have a\n",
       "  specific estimator or a Pipeline/ColumnTransformer */\n",
       "  background-color: var(--sklearn-color-background);\n",
       "}\n",
       "\n",
       "/* Toggleable label */\n",
       "#sk-container-id-2 label.sk-toggleable__label {\n",
       "  cursor: pointer;\n",
       "  display: block;\n",
       "  width: 100%;\n",
       "  margin-bottom: 0;\n",
       "  padding: 0.5em;\n",
       "  box-sizing: border-box;\n",
       "  text-align: center;\n",
       "}\n",
       "\n",
       "#sk-container-id-2 label.sk-toggleable__label-arrow:before {\n",
       "  /* Arrow on the left of the label */\n",
       "  content: \"▸\";\n",
       "  float: left;\n",
       "  margin-right: 0.25em;\n",
       "  color: var(--sklearn-color-icon);\n",
       "}\n",
       "\n",
       "#sk-container-id-2 label.sk-toggleable__label-arrow:hover:before {\n",
       "  color: var(--sklearn-color-text);\n",
       "}\n",
       "\n",
       "/* Toggleable content - dropdown */\n",
       "\n",
       "#sk-container-id-2 div.sk-toggleable__content {\n",
       "  max-height: 0;\n",
       "  max-width: 0;\n",
       "  overflow: hidden;\n",
       "  text-align: left;\n",
       "  /* unfitted */\n",
       "  background-color: var(--sklearn-color-unfitted-level-0);\n",
       "}\n",
       "\n",
       "#sk-container-id-2 div.sk-toggleable__content.fitted {\n",
       "  /* fitted */\n",
       "  background-color: var(--sklearn-color-fitted-level-0);\n",
       "}\n",
       "\n",
       "#sk-container-id-2 div.sk-toggleable__content pre {\n",
       "  margin: 0.2em;\n",
       "  border-radius: 0.25em;\n",
       "  color: var(--sklearn-color-text);\n",
       "  /* unfitted */\n",
       "  background-color: var(--sklearn-color-unfitted-level-0);\n",
       "}\n",
       "\n",
       "#sk-container-id-2 div.sk-toggleable__content.fitted pre {\n",
       "  /* unfitted */\n",
       "  background-color: var(--sklearn-color-fitted-level-0);\n",
       "}\n",
       "\n",
       "#sk-container-id-2 input.sk-toggleable__control:checked~div.sk-toggleable__content {\n",
       "  /* Expand drop-down */\n",
       "  max-height: 200px;\n",
       "  max-width: 100%;\n",
       "  overflow: auto;\n",
       "}\n",
       "\n",
       "#sk-container-id-2 input.sk-toggleable__control:checked~label.sk-toggleable__label-arrow:before {\n",
       "  content: \"▾\";\n",
       "}\n",
       "\n",
       "/* Pipeline/ColumnTransformer-specific style */\n",
       "\n",
       "#sk-container-id-2 div.sk-label input.sk-toggleable__control:checked~label.sk-toggleable__label {\n",
       "  color: var(--sklearn-color-text);\n",
       "  background-color: var(--sklearn-color-unfitted-level-2);\n",
       "}\n",
       "\n",
       "#sk-container-id-2 div.sk-label.fitted input.sk-toggleable__control:checked~label.sk-toggleable__label {\n",
       "  background-color: var(--sklearn-color-fitted-level-2);\n",
       "}\n",
       "\n",
       "/* Estimator-specific style */\n",
       "\n",
       "/* Colorize estimator box */\n",
       "#sk-container-id-2 div.sk-estimator input.sk-toggleable__control:checked~label.sk-toggleable__label {\n",
       "  /* unfitted */\n",
       "  background-color: var(--sklearn-color-unfitted-level-2);\n",
       "}\n",
       "\n",
       "#sk-container-id-2 div.sk-estimator.fitted input.sk-toggleable__control:checked~label.sk-toggleable__label {\n",
       "  /* fitted */\n",
       "  background-color: var(--sklearn-color-fitted-level-2);\n",
       "}\n",
       "\n",
       "#sk-container-id-2 div.sk-label label.sk-toggleable__label,\n",
       "#sk-container-id-2 div.sk-label label {\n",
       "  /* The background is the default theme color */\n",
       "  color: var(--sklearn-color-text-on-default-background);\n",
       "}\n",
       "\n",
       "/* On hover, darken the color of the background */\n",
       "#sk-container-id-2 div.sk-label:hover label.sk-toggleable__label {\n",
       "  color: var(--sklearn-color-text);\n",
       "  background-color: var(--sklearn-color-unfitted-level-2);\n",
       "}\n",
       "\n",
       "/* Label box, darken color on hover, fitted */\n",
       "#sk-container-id-2 div.sk-label.fitted:hover label.sk-toggleable__label.fitted {\n",
       "  color: var(--sklearn-color-text);\n",
       "  background-color: var(--sklearn-color-fitted-level-2);\n",
       "}\n",
       "\n",
       "/* Estimator label */\n",
       "\n",
       "#sk-container-id-2 div.sk-label label {\n",
       "  font-family: monospace;\n",
       "  font-weight: bold;\n",
       "  display: inline-block;\n",
       "  line-height: 1.2em;\n",
       "}\n",
       "\n",
       "#sk-container-id-2 div.sk-label-container {\n",
       "  text-align: center;\n",
       "}\n",
       "\n",
       "/* Estimator-specific */\n",
       "#sk-container-id-2 div.sk-estimator {\n",
       "  font-family: monospace;\n",
       "  border: 1px dotted var(--sklearn-color-border-box);\n",
       "  border-radius: 0.25em;\n",
       "  box-sizing: border-box;\n",
       "  margin-bottom: 0.5em;\n",
       "  /* unfitted */\n",
       "  background-color: var(--sklearn-color-unfitted-level-0);\n",
       "}\n",
       "\n",
       "#sk-container-id-2 div.sk-estimator.fitted {\n",
       "  /* fitted */\n",
       "  background-color: var(--sklearn-color-fitted-level-0);\n",
       "}\n",
       "\n",
       "/* on hover */\n",
       "#sk-container-id-2 div.sk-estimator:hover {\n",
       "  /* unfitted */\n",
       "  background-color: var(--sklearn-color-unfitted-level-2);\n",
       "}\n",
       "\n",
       "#sk-container-id-2 div.sk-estimator.fitted:hover {\n",
       "  /* fitted */\n",
       "  background-color: var(--sklearn-color-fitted-level-2);\n",
       "}\n",
       "\n",
       "/* Specification for estimator info (e.g. \"i\" and \"?\") */\n",
       "\n",
       "/* Common style for \"i\" and \"?\" */\n",
       "\n",
       ".sk-estimator-doc-link,\n",
       "a:link.sk-estimator-doc-link,\n",
       "a:visited.sk-estimator-doc-link {\n",
       "  float: right;\n",
       "  font-size: smaller;\n",
       "  line-height: 1em;\n",
       "  font-family: monospace;\n",
       "  background-color: var(--sklearn-color-background);\n",
       "  border-radius: 1em;\n",
       "  height: 1em;\n",
       "  width: 1em;\n",
       "  text-decoration: none !important;\n",
       "  margin-left: 1ex;\n",
       "  /* unfitted */\n",
       "  border: var(--sklearn-color-unfitted-level-1) 1pt solid;\n",
       "  color: var(--sklearn-color-unfitted-level-1);\n",
       "}\n",
       "\n",
       ".sk-estimator-doc-link.fitted,\n",
       "a:link.sk-estimator-doc-link.fitted,\n",
       "a:visited.sk-estimator-doc-link.fitted {\n",
       "  /* fitted */\n",
       "  border: var(--sklearn-color-fitted-level-1) 1pt solid;\n",
       "  color: var(--sklearn-color-fitted-level-1);\n",
       "}\n",
       "\n",
       "/* On hover */\n",
       "div.sk-estimator:hover .sk-estimator-doc-link:hover,\n",
       ".sk-estimator-doc-link:hover,\n",
       "div.sk-label-container:hover .sk-estimator-doc-link:hover,\n",
       ".sk-estimator-doc-link:hover {\n",
       "  /* unfitted */\n",
       "  background-color: var(--sklearn-color-unfitted-level-3);\n",
       "  color: var(--sklearn-color-background);\n",
       "  text-decoration: none;\n",
       "}\n",
       "\n",
       "div.sk-estimator.fitted:hover .sk-estimator-doc-link.fitted:hover,\n",
       ".sk-estimator-doc-link.fitted:hover,\n",
       "div.sk-label-container:hover .sk-estimator-doc-link.fitted:hover,\n",
       ".sk-estimator-doc-link.fitted:hover {\n",
       "  /* fitted */\n",
       "  background-color: var(--sklearn-color-fitted-level-3);\n",
       "  color: var(--sklearn-color-background);\n",
       "  text-decoration: none;\n",
       "}\n",
       "\n",
       "/* Span, style for the box shown on hovering the info icon */\n",
       ".sk-estimator-doc-link span {\n",
       "  display: none;\n",
       "  z-index: 9999;\n",
       "  position: relative;\n",
       "  font-weight: normal;\n",
       "  right: .2ex;\n",
       "  padding: .5ex;\n",
       "  margin: .5ex;\n",
       "  width: min-content;\n",
       "  min-width: 20ex;\n",
       "  max-width: 50ex;\n",
       "  color: var(--sklearn-color-text);\n",
       "  box-shadow: 2pt 2pt 4pt #999;\n",
       "  /* unfitted */\n",
       "  background: var(--sklearn-color-unfitted-level-0);\n",
       "  border: .5pt solid var(--sklearn-color-unfitted-level-3);\n",
       "}\n",
       "\n",
       ".sk-estimator-doc-link.fitted span {\n",
       "  /* fitted */\n",
       "  background: var(--sklearn-color-fitted-level-0);\n",
       "  border: var(--sklearn-color-fitted-level-3);\n",
       "}\n",
       "\n",
       ".sk-estimator-doc-link:hover span {\n",
       "  display: block;\n",
       "}\n",
       "\n",
       "/* \"?\"-specific style due to the `<a>` HTML tag */\n",
       "\n",
       "#sk-container-id-2 a.estimator_doc_link {\n",
       "  float: right;\n",
       "  font-size: 1rem;\n",
       "  line-height: 1em;\n",
       "  font-family: monospace;\n",
       "  background-color: var(--sklearn-color-background);\n",
       "  border-radius: 1rem;\n",
       "  height: 1rem;\n",
       "  width: 1rem;\n",
       "  text-decoration: none;\n",
       "  /* unfitted */\n",
       "  color: var(--sklearn-color-unfitted-level-1);\n",
       "  border: var(--sklearn-color-unfitted-level-1) 1pt solid;\n",
       "}\n",
       "\n",
       "#sk-container-id-2 a.estimator_doc_link.fitted {\n",
       "  /* fitted */\n",
       "  border: var(--sklearn-color-fitted-level-1) 1pt solid;\n",
       "  color: var(--sklearn-color-fitted-level-1);\n",
       "}\n",
       "\n",
       "/* On hover */\n",
       "#sk-container-id-2 a.estimator_doc_link:hover {\n",
       "  /* unfitted */\n",
       "  background-color: var(--sklearn-color-unfitted-level-3);\n",
       "  color: var(--sklearn-color-background);\n",
       "  text-decoration: none;\n",
       "}\n",
       "\n",
       "#sk-container-id-2 a.estimator_doc_link.fitted:hover {\n",
       "  /* fitted */\n",
       "  background-color: var(--sklearn-color-fitted-level-3);\n",
       "}\n",
       "</style><div id=\"sk-container-id-2\" class=\"sk-top-container\"><div class=\"sk-text-repr-fallback\"><pre>KNeighborsClassifier(n_neighbors=1)</pre><b>In a Jupyter environment, please rerun this cell to show the HTML representation or trust the notebook. <br />On GitHub, the HTML representation is unable to render, please try loading this page with nbviewer.org.</b></div><div class=\"sk-container\" hidden><div class=\"sk-item\"><div class=\"sk-estimator fitted sk-toggleable\"><input class=\"sk-toggleable__control sk-hidden--visually\" id=\"sk-estimator-id-2\" type=\"checkbox\" checked><label for=\"sk-estimator-id-2\" class=\"sk-toggleable__label fitted sk-toggleable__label-arrow fitted\">&nbsp;&nbsp;KNeighborsClassifier<a class=\"sk-estimator-doc-link fitted\" rel=\"noreferrer\" target=\"_blank\" href=\"https://scikit-learn.org/1.5/modules/generated/sklearn.neighbors.KNeighborsClassifier.html\">?<span>Documentation for KNeighborsClassifier</span></a><span class=\"sk-estimator-doc-link fitted\">i<span>Fitted</span></span></label><div class=\"sk-toggleable__content fitted\"><pre>KNeighborsClassifier(n_neighbors=1)</pre></div> </div></div></div></div>"
      ],
      "text/plain": [
       "KNeighborsClassifier(n_neighbors=1)"
      ]
     },
     "execution_count": 55,
     "metadata": {},
     "output_type": "execute_result"
    }
   ],
   "source": [
    "# Your code starts here.\n",
    "from sklearn.neighbors import KNeighborsClassifier\n",
    "\n",
    "knn = KNeighborsClassifier(n_neighbors=1)\n",
    "knn.fit(X_train, y_train)\n",
    "# Your code ends here"
   ]
  },
  {
   "cell_type": "markdown",
   "metadata": {
    "id": "eAEVkt6LYNDf"
   },
   "source": [
    "**Using this fitted model, predict on X_test. Store these predictions in variable called pred.**"
   ]
  },
  {
   "cell_type": "code",
   "execution_count": 56,
   "metadata": {
    "id": "rsnjjXaMYNDf"
   },
   "outputs": [
    {
     "name": "stdout",
     "output_type": "stream",
     "text": [
      "[1 0 0 0 1 0 1 0 1 1 1 0 1 1 0 1 1 1 1 1 0 0 0 0 1 0 0 0 0 1 1 0 0 0 0 0 0\n",
      " 0 0 0 0 1 0 0 1 0 1 1 1 1 1 0 0 1 0 1 0 0 0 1 1 0 0 1 0 1 1 0 1 1 0 0 1 1\n",
      " 0 0 0 1 1 1 0 0 0 1 0 1 1 1 0 0 0 0 0 0 0 0 1 1 1 1 1 1 0 0 0 0 0 1 0 1 0\n",
      " 1 0 0 0 1 1 1 0 1 0 1 1 1 1 1 0 0 0 1 1 1 0 1 0 1 1 0 1 0 1 1 1 1 1 1 0 1\n",
      " 0 0 1 1 0 0 0 1 1 1 0 0 1 0 0 0 1 1 1 0 0 0 0 0 1 1 0 0 1 0 0 1 1 1 1 0 0\n",
      " 1 1 1 1 1 0 1 1 0 0 0 1 1 1 1 1 1 1 1 1 0 0 0 1 0 0 1 0 1 0 1 1 0 1 1 1 0\n",
      " 1 0 0 1 1 0 0 1 0 1 0 0 0 1 1 1 0 1 1 1 0 1 1 0 1 1 0 0 1 0 1 0 1 0 0 0 1\n",
      " 1 0 1 0 1 1 0 0 0 0 1 0 0 0 1 1 0 0 1 1 1 1 0 1 0 1 0 1 1 0 1 1 0 0 1 0 0\n",
      " 0 0 0 0]\n"
     ]
    }
   ],
   "source": [
    "# Your code starts here.\n",
    "pred = knn.predict(X_test)\n",
    "print(pred)\n",
    "# Your code ends here"
   ]
  },
  {
   "cell_type": "markdown",
   "metadata": {
    "id": "7IcCOyuOYNDf"
   },
   "source": [
    "**Let us check how correct these predictions are.<br>\n",
    "Print a classification report of y_test and pred**<br>\n",
    "Hint: sklearn classification_report"
   ]
  },
  {
   "cell_type": "code",
   "execution_count": 57,
   "metadata": {
    "id": "HC-20WeuYNDg"
   },
   "outputs": [
    {
     "name": "stdout",
     "output_type": "stream",
     "text": [
      "              precision    recall  f1-score   support\n",
      "\n",
      "           0       0.93      0.89      0.91       157\n",
      "           1       0.88      0.92      0.90       143\n",
      "\n",
      "    accuracy                           0.90       300\n",
      "   macro avg       0.90      0.90      0.90       300\n",
      "weighted avg       0.90      0.90      0.90       300\n",
      "\n"
     ]
    }
   ],
   "source": [
    "# Your code starts here.\n",
    "from sklearn.metrics import classification_report\n",
    "print(classification_report(y_test, pred))\n",
    "# Your code ends here"
   ]
  },
  {
   "cell_type": "markdown",
   "metadata": {
    "id": "cJgjc8eTqayj"
   },
   "source": [
    "Learn all about classification metrics - https://medium.com/analytics-vidhya/evaluation-metrics-for-classification-models-e2f0d8009d69"
   ]
  },
  {
   "cell_type": "markdown",
   "metadata": {
    "id": "exGvX0C5YNDg"
   },
   "source": [
    "**Print the accuracy using numpy and round it to 3 decimal places.**"
   ]
  },
  {
   "cell_type": "code",
   "execution_count": 59,
   "metadata": {
    "id": "sSoOx6MiYNDg"
   },
   "outputs": [
    {
     "name": "stdout",
     "output_type": "stream",
     "text": [
      "Accuracy:  0.903\n"
     ]
    }
   ],
   "source": [
    "# Your code starts here.\n",
    "from sklearn.metrics import accuracy_score\n",
    "accuracy = accuracy_score(y_test, pred)\n",
    "print(\"Accuracy: \", round(accuracy, 3))\n",
    "# Your code ends here"
   ]
  },
  {
   "cell_type": "markdown",
   "metadata": {
    "id": "Ezn80DmafA_L"
   },
   "source": [
    "Hey, not bad! But can we further improve this? Remember our arbitrary choice for n_neighbours? Can we improve that?"
   ]
  },
  {
   "cell_type": "markdown",
   "metadata": {
    "id": "UWjjrBrbYNDh"
   },
   "source": [
    "### Choosing optimal 'k'"
   ]
  },
  {
   "cell_type": "markdown",
   "metadata": {
    "id": "IT_5lBDVYNDh"
   },
   "source": [
    "**Above, we chose n_neighbours to be equal to 1. Choosing a small value of K leads to unstable decision boundaries. <br>\n",
    "We need to select n_neighbours by calculating the accuracy for every value of n from 1 to 60 and then choosing the one which gives the highest accuracy.**"
   ]
  },
  {
   "cell_type": "code",
   "execution_count": 60,
   "metadata": {
    "id": "xPKm3inZYNDh"
   },
   "outputs": [
    {
     "name": "stdout",
     "output_type": "stream",
     "text": [
      "37\n"
     ]
    }
   ],
   "source": [
    "# Do the same as we did above, but this time make a loop from n = 1 to n = 60 and append the accuracy\n",
    "# for each in a list\n",
    "\n",
    "# Your code starts here.\n",
    "accuracies = []\n",
    "\n",
    "for n in range(1, 61):\n",
    "    knn = KNeighborsClassifier(n_neighbors=n)\n",
    "    knn.fit(X_train, y_train)\n",
    "    pred = knn.predict(X_test)\n",
    "    accuracy = accuracy_score(y_test, pred)\n",
    "    accuracies.append(accuracy)\n",
    "    \n",
    "best_n = accuracies.index(max(accuracies)) + 1\n",
    "print(best_n)\n",
    "# Your code ends here"
   ]
  },
  {
   "cell_type": "markdown",
   "metadata": {
    "id": "5LUl_JMUYNDi"
   },
   "source": [
    "**Plot a graph of K value vs Accuracy**"
   ]
  },
  {
   "cell_type": "code",
   "execution_count": 61,
   "metadata": {
    "id": "DvsbINxsYNDi"
   },
   "outputs": [
    {
     "data": {
      "image/png": "[encoded data removed]",
      "text/plain": [
       "<Figure size 640x480 with 1 Axes>"
      ]
     },
     "metadata": {},
     "output_type": "display_data"
    }
   ],
   "source": [
    "# Your code starts here.\n",
    "plt.plot(range(1, 61), accuracies, marker='o', linestyle='-', color='b')\n",
    "plt.xlabel('Number of Neighbors (K)')\n",
    "plt.ylabel('Accuracy')\n",
    "plt.title('K vs Accuracy')\n",
    "plt.grid(True)\n",
    "plt.xticks(range(1, 61, 2)) \n",
    "plt.show()\n",
    "# Your code ends here"
   ]
  },
  {
   "cell_type": "markdown",
   "metadata": {
    "id": "KO4KK1WEYNDi"
   },
   "source": [
    "**Choose the best value of n_neighbours and give a reason why and also print the accuracy**"
   ]
  },
  {
   "cell_type": "code",
   "execution_count": 62,
   "metadata": {
    "id": "SWf5hh-jYNDj"
   },
   "outputs": [
    {
     "name": "stdout",
     "output_type": "stream",
     "text": [
      "Best value of n_neighbours: 37\n",
      "Corresponding highest accuracy: 0.943\n"
     ]
    }
   ],
   "source": [
    "# Your code starts here.\n",
    "n_acc_best = 0.943\n",
    "n_neigh_best = 37\n",
    "print(\"Best value of n_neighbours:\",n_neigh_best)\n",
    "print(\"Corresponding highest accuracy:\",n_acc_best)\n",
    "# Your code ends here"
   ]
  },
  {
   "cell_type": "code",
   "execution_count": null,
   "metadata": {
    "id": "8gIMbzLJd8bu"
   },
   "outputs": [],
   "source": [
    "# Reasons:\n",
    "# The best value is chosen because it gives the highest accuracy while maintaining stability.\n",
    "# It avoids both underfitting and overfitting."
   ]
  },
  {
   "cell_type": "markdown",
   "metadata": {
    "id": "k9XhFGEqHZQn"
   },
   "source": [
    "# **Compulsory:**"
   ]
  },
  {
   "cell_type": "markdown",
   "metadata": {
    "id": "SygIgxENHr83"
   },
   "source": [
    "Task 1 : You have to research and create a short blog on the topic of **Reinforcement Learning**.\n",
    "\n",
    "\n",
    "Task 2 : You have to research and create a short blog on the topic of **Oversampling and Undersampling**.\n",
    "Happy coding! :)"
   ]
  },
  {
   "cell_type": "markdown",
   "metadata": {},
   "source": [
    "_________________________________\n",
    "## Task 1: Reinforcement Learning\n",
    "#### **Introduction to Reinforcement Learning**\n",
    "Reinforcement Learning (RL) is a type of machine learning where an agent learns to make decisions by interacting with an environment. Unlike supervised learning, which relies on labeled data, RL uses a system of rewards and penalties to guide the agent toward achieving its goal.\n",
    "\n",
    "#### **Key Components of Reinforcement Learning:**\n",
    "\n",
    "*Agent*: The decision-maker or learner.\n",
    "*Environment*: The world with which the agent interacts.\n",
    "*State*: A representation of the environment at a particular time.\n",
    "*Action*: The moves or decisions made by the agent.\n",
    "*Reward*: Feedback from the environment to indicate the success of an action.\n",
    "\n",
    "#### **How RL Works:**\n",
    "\n",
    "The agent starts in an initial state and performs an action.\n",
    "The environment responds by transitioning to a new state and providing a reward.\n",
    "The agent's goal is to maximize the cumulative reward over time.\n",
    "\n",
    "#### **Popular RL Algorithms:**\n",
    "\n",
    "*Q-Learning*: A value-based algorithm that learns the optimal action-value function.\n",
    "\n",
    "*Deep Q-Networks (DQN)*: Combines Q-learning with deep neural networks.\n",
    "\n",
    "*Policy Gradient Methods*: Directly optimize the policy for selecting actions."
   ]
  },
  {
   "cell_type": "markdown",
   "metadata": {},
   "source": [
    "______________________________________________________________________________________\n",
    "\n",
    "## ***Task 2: Oversampling and Undersampling***\n",
    "\n",
    "#### **Introduction**\n",
    "In machine learning, imbalanced datasets are common, where one class is significantly underrepresented compared to others. This imbalance can lead to biased models. Two popular techniques to address this are oversampling and undersampling.\n",
    "\n",
    "#### **1. Oversampling**\n",
    "Oversampling involves increasing the number of samples in the minority class to balance the dataset.\n",
    "\n",
    "#### **Techniques for Oversampling:**\n",
    "\n",
    "Random Oversampling: Duplicates random samples from the minority class.\n",
    "SMOTE (Synthetic Minority Oversampling Technique): Generates synthetic samples by interpolating between existing minority samples.\n",
    "\n",
    "#### **Pros:**\n",
    "Prevents loss of information.\n",
    "Effective when the minority class is important.\n",
    "\n",
    "#### **Cons**:\n",
    "May lead to overfitting (especially with random oversampling).\n",
    "\n",
    "\n",
    "#### **2. Undersampling**\n",
    "Undersampling involves reducing the number of samples in the majority class to balance the dataset.\n",
    "\n",
    "#### **Techniques for Undersampling:**\n",
    "\n",
    "Random Undersampling: Randomly removes samples from the majority class.\n",
    "Tomek Links: Removes samples that are borderline between classes.\n",
    "\n",
    "#### **Pros:**\n",
    "Reduces training time by simplifying the dataset.\n",
    "Effective when the dataset is large.\n",
    "\n",
    "#### **Cons:**\n",
    "Risk of losing valuable information from the majority class.\n",
    "\n",
    "#### **Choosing Between Oversampling and Undersampling**\n",
    "\n",
    "Use oversampling if data collection is expensive or the dataset is small.\n",
    "Use undersampling if computational efficiency is a priority, and the dataset is large."
   ]
  },
  {
   "cell_type": "markdown",
   "metadata": {
    "id": "xAXGpxm2Wcmm"
   },
   "source": [
    "# **End of Task**\n",
    "\n",
    "\n"
   ]
  }
 ],
 "metadata": {
  "colab": {
   "provenance": []
  },
  "kernelspec": {
   "display_name": "Python 3",
   "name": "python3"
  },
  "language_info": {
   "codemirror_mode": {
    "name": "ipython",
    "version": 3
   },
   "file_extension": ".py",
   "mimetype": "text/x-python",
   "name": "python",
   "nbconvert_exporter": "python",
   "pygments_lexer": "ipython3",
   "version": "3.11.9"
  }
 },
 "nbformat": 4,
 "nbformat_minor": 0
}
